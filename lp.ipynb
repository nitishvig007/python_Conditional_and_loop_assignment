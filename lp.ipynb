{
 "cells": [
  {
   "cell_type": "code",
   "execution_count": 1,
   "id": "80745d55",
   "metadata": {},
   "outputs": [
    {
     "name": "stdout",
     "output_type": "stream",
     "text": [
      "enter a number between 0 & 9:10\n",
      " number is outside of the range \n"
     ]
    }
   ],
   "source": [
    "n=int(input(\"enter a number between 0 & 9:\"))\n",
    "listnum=['zero','one','two','three','four','five','six','seven','eight','nine']\n",
    "if(n<=9):   \n",
    "    print(listnum.pop(int(n)))\n",
    "else :\n",
    "    print(\" number is outside of the range \")"
   ]
  },
  {
   "cell_type": "code",
   "execution_count": 3,
   "id": "f1a0de90",
   "metadata": {},
   "outputs": [
    {
     "name": "stdout",
     "output_type": "stream",
     "text": [
      "enter num 1:4\n",
      "enter num 2:6\n",
      "To add enter 1 or to subtract enter 2 or To multiply enter 3 or To divide enter 4 or To divide and find quotient enter 5 or To divide and find remainder enter 6 or To divide and find num1 to the power of num2 enter 7 or To Come out of the program enter 87\n",
      "power=  1296\n"
     ]
    }
   ],
   "source": [
    "#calculator\n",
    "n1=int(input(\"enter num 1:\"))\n",
    "n2=int(input(\"enter num 2:\"))\n",
    "ch=int(input(\"To add enter 1 or to subtract enter 2 or To multiply enter 3 or To divide enter 4 or To divide and find quotient enter 5 or To divide and find remainder enter 6 or To divide and find num1 to the power of num2 enter 7 or To Come out of the program enter 8\"))\n",
    "if ch==1:\n",
    "    print(\"sum= \",(n1+n2))\n",
    "elif ch==2:\n",
    "    print(\"difference= \",(n1-n2))\n",
    "elif ch==3:\n",
    "    print(\"product= \",(n1*n2))\n",
    "elif ch==4:\n",
    "    print(\"division= \",(n1/n2))\n",
    "elif ch==5:\n",
    "    print(\"quotient= \",(n1//n2))                   \n",
    "elif ch==6:\n",
    "    print(\"remainder= \",(n1%n2))                   \n",
    "elif ch==7:\n",
    "    print(\"power= \",(n2**n1))\n",
    "elif ch==8:\n",
    "    print(\"end\")"
   ]
  },
  {
   "cell_type": "code",
   "execution_count": 4,
   "id": "1cffd563",
   "metadata": {},
   "outputs": [
    {
     "name": "stdout",
     "output_type": "stream",
     "text": [
      "enter the year :1971\n",
      "not leap\n"
     ]
    }
   ],
   "source": [
    "#leap year\n",
    "y=int(input(\"enter the year :\"))\n",
    "\n",
    "if y%4==0:\n",
    " if y%100==0 :\n",
    "    if y%400==0:\n",
    "       print(\"leap year\")\n",
    "    else:\n",
    "        print(\"not leap\")\n",
    " else:\n",
    "    print(\"not leap year\")\n",
    "else:\n",
    "    print(\"not leap\")\n"
   ]
  },
  {
   "cell_type": "code",
   "execution_count": 5,
   "id": "30bc9500",
   "metadata": {},
   "outputs": [
    {
     "name": "stdout",
     "output_type": "stream",
     "text": [
      "enter number :22\n",
      "even\n"
     ]
    }
   ],
   "source": [
    "#odd even\n",
    "n=int(input(\"enter number :\"))\n",
    "if n%2==0:\n",
    "    print(\"even\")\n",
    "else:\n",
    "    print(\"odd\")\n"
   ]
  },
  {
   "cell_type": "code",
   "execution_count": 9,
   "id": "47fa326b",
   "metadata": {},
   "outputs": [
    {
     "name": "stdout",
     "output_type": "stream",
     "text": [
      "enter num 1:5\n",
      "enter num 2:5\n",
      "num1 is equal to num2\n"
     ]
    }
   ],
   "source": [
    "#ternary op\n",
    "n1=int(input(\"enter num 1:\"))\n",
    "n2=int(input(\"enter num 2:\"))\n",
    "\n",
    "res=\"num1 is greater than num2\" if n1 > n2 else\"num1 is lesser\"\n",
    "res=\"num1 is smaller than num2\" if n1<n2 else\"num1 is greater\"\n",
    "res=\"num1 is equal to num2\" if n1==n2 else\"none works\"\n",
    "\n",
    "print(res)"
   ]
  },
  {
   "cell_type": "code",
   "execution_count": 10,
   "id": "23e1c27a",
   "metadata": {},
   "outputs": [
    {
     "name": "stdout",
     "output_type": "stream",
     "text": [
      "odd\n"
     ]
    }
   ],
   "source": [
    "num=25\n",
    "res=\"even\" if num%2==0 else\"odd\"\n",
    "print(res)"
   ]
  },
  {
   "cell_type": "code",
   "execution_count": 11,
   "id": "6b583f29",
   "metadata": {},
   "outputs": [
    {
     "name": "stdout",
     "output_type": "stream",
     "text": [
      "length= 55\n"
     ]
    }
   ],
   "source": [
    "#len of string\n",
    "str1=\"Write a Python program to find the length of the my_str\"\n",
    "k=0\n",
    "i=0\n",
    "for i in range(0,len(str1)):\n",
    "    k+=1\n",
    "print(\"length=\",k)"
   ]
  },
  {
   "cell_type": "code",
   "execution_count": 12,
   "id": "cf40574b",
   "metadata": {},
   "outputs": [
    {
     "name": "stdout",
     "output_type": "stream",
     "text": [
      "9\n"
     ]
    }
   ],
   "source": [
    "str2=\"peter piper picked a peck of pickled peppers.\\n\"\n",
    "i=0\n",
    "k=0\n",
    "for i in range(0,len(str2)):\n",
    "    if str2[i] == \"p\":\n",
    "        k+=1\n",
    "        \n",
    "print(k)\n"
   ]
  },
  {
   "cell_type": "code",
   "execution_count": 13,
   "id": "bf2ef811",
   "metadata": {},
   "outputs": [
    {
     "name": "stdout",
     "output_type": "stream",
     "text": [
      "0\n",
      "6\n",
      "8\n",
      "12\n",
      "21\n",
      "29\n",
      "37\n",
      "39\n",
      "40\n"
     ]
    }
   ],
   "source": [
    "str3=\"peter piper picked a peck of pickled peppers.\"\n",
    "\n",
    "for i in range(0,len(str2)):\n",
    "    if str2[i] == \"p\":\n",
    "        print(i)\n"
   ]
  },
  {
   "cell_type": "code",
   "execution_count": 14,
   "id": "c9e3ddb9",
   "metadata": {},
   "outputs": [
    {
     "name": "stdout",
     "output_type": "stream",
     "text": [
      "['peter', 'piper', 'picked', 'a', 'peck', 'of', 'pickled', 'peppers.']\n"
     ]
    }
   ],
   "source": [
    "str4=\"peter piper picked a peck of pickled peppers.\"\n",
    "\n",
    "stemp=str4.split()\n",
    "print(stemp)\n"
   ]
  },
  {
   "cell_type": "code",
   "execution_count": 16,
   "id": "00b410be",
   "metadata": {},
   "outputs": [
    {
     "name": "stdout",
     "output_type": "stream",
     "text": [
      ".sreppep delkcip fo kcep a dekcip repip retep"
     ]
    }
   ],
   "source": [
    "str5=\"peter piper picked a peck of pickled peppers.\"\n",
    "i=len(str5)-1\n",
    "\n",
    "while(i>=0):\n",
    "    print(str5[i],end=\"\")\n",
    "    i-=1\n",
    "\n"
   ]
  },
  {
   "cell_type": "code",
   "execution_count": 17,
   "id": "76c34fc5",
   "metadata": {},
   "outputs": [
    {
     "name": "stdout",
     "output_type": "stream",
     "text": [
      "Peter Piper Picked A Peck Of Pickled Peppers.\n"
     ]
    }
   ],
   "source": [
    "str8=\"peter piper picked a peck of pickled peppers.\"\n",
    "\n",
    "print(str8.title())"
   ]
  },
  {
   "cell_type": "code",
   "execution_count": 18,
   "id": "e9df4bd9",
   "metadata": {},
   "outputs": [
    {
     "name": "stdout",
     "output_type": "stream",
     "text": [
      "29\n"
     ]
    }
   ],
   "source": [
    "my_str =\"Peter Piper Picked A Peck Of Pickled Peppers.\"  #sub_str = 'Pickl'#Output:- 29\n",
    "print(my_str.find('Pickl'))"
   ]
  },
  {
   "cell_type": "code",
   "execution_count": 19,
   "id": "b574ed61",
   "metadata": {},
   "outputs": [
    {
     "name": "stdout",
     "output_type": "stream",
     "text": [
      "Peter Piper Picked A Pack Of Pickled Peppers.\n"
     ]
    }
   ],
   "source": [
    "my_str = \"Peter Piper Picked A Peck Of Pickled Peppers.\" #sub_str = 'Peck', new_str = 'Pack'. output:'Peter Piper Picked A Pack Of Pickled Peppers.'\n",
    "i=0\n",
    "\n",
    "st=my_str.split(\" \")\n",
    "sub_str =\"Peck\"\n",
    "new_str =\"Pack\"\n",
    "while i<len(st):\n",
    "    if st[i]==sub_str:\n",
    "        st[i]=new_str\n",
    "    \n",
    "    i+=1\n",
    "\n",
    "print(\" \".join(st))"
   ]
  },
  {
   "cell_type": "code",
   "execution_count": 20,
   "id": "d424567e",
   "metadata": {},
   "outputs": [
    {
     "name": "stdout",
     "output_type": "stream",
     "text": [
      "['This', 'is', 'Python', 'class']\n"
     ]
    }
   ],
   "source": [
    "Input=\"This is Python class\"\n",
    "sep =\"is\" \n",
    "#Output:- ['This', 'is', 'Python class']\n",
    "ls=Input.split(\" \")\n",
    "print(ls)\n"
   ]
  }
 ],
 "metadata": {
  "kernelspec": {
   "display_name": "Python 3",
   "language": "python",
   "name": "python3"
  },
  "language_info": {
   "codemirror_mode": {
    "name": "ipython",
    "version": 3
   },
   "file_extension": ".py",
   "mimetype": "text/x-python",
   "name": "python",
   "nbconvert_exporter": "python",
   "pygments_lexer": "ipython3",
   "version": "3.8.8"
  }
 },
 "nbformat": 4,
 "nbformat_minor": 5
}
