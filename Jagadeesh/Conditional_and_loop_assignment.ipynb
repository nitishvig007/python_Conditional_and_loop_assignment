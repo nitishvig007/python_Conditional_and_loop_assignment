{
 "cells": [
  {
   "cell_type": "markdown",
   "metadata": {
    "id": "wNRNTbrsc53d"
   },
   "source": [
    "# If - elif - else statement"
   ]
  },
  {
   "cell_type": "code",
   "execution_count": 1,
   "metadata": {
    "id": "MiPfTnBycxNa"
   },
   "outputs": [
    {
     "name": "stdout",
     "output_type": "stream",
     "text": [
      "Enter a number between 0 to 9:8\n",
      "Eight\n"
     ]
    }
   ],
   "source": [
    "# W. A P. which takes one number from 0 to 9 from the user and prints it in the word. And if the word is not from 0 to 9 then\n",
    "# it should print that number is outside of the range and program should exit.\n",
    "# For exapmple:- \n",
    "# input = 1\n",
    "# output = one\n",
    "num = int(input(\"Enter a number between 0 to 9:\"))\n",
    "if (num == 0):\n",
    "    print(\"Zero\")\n",
    "elif (num == 1):\n",
    "    print(\"One\")\n",
    "elif (num == 2):\n",
    "    print(\"Two\")\n",
    "elif (num == 3):\n",
    "    print(\"Three\")\n",
    "elif (num == 4):\n",
    "    print(\"Four\")\n",
    "elif (num == 5):\n",
    "    print(\"Five\")\n",
    "elif (num == 6):\n",
    "    print(\"Six\")\n",
    "elif (num == 7):\n",
    "    print(\"Sevan\")\n",
    "elif (num == 8):\n",
    "    print(\"Eight\")\n",
    "elif (num == 9):\n",
    "    print(\"Nine\")\n",
    "else:\n",
    "    print(\"We don't have word representation for that number\")"
   ]
  },
  {
   "cell_type": "code",
   "execution_count": 15,
   "metadata": {
    "id": "vEMNOv9zdA39"
   },
   "outputs": [
    {
     "name": "stdout",
     "output_type": "stream",
     "text": [
      "Enter a number between 1 to 8: 5\n",
      "0\n"
     ]
    }
   ],
   "source": [
    "# W. A P. to implement calculator but the operation to be done and two numbers will be taken as input from user:-\n",
    "# Operation console should show below:-\n",
    "#     Please select any one operation from below:-\n",
    "#         * To add enter 1\n",
    "#         * to subtract enter 2\n",
    "#         * To multiply enter 3\n",
    "#         * To divide enter 4\n",
    "#         * To divide and find quotient enter 5\n",
    "#         * To divide and find remainder enter 6\n",
    "#         * To divide and find num1 to the power of num2 enter 7\n",
    "#         * To Come out of the program enter 8\n",
    "\n",
    "a = 8\n",
    "b = 4\n",
    "num=int(input(\"Enter a number between 1 to 8: \"))\n",
    "if (num == 1):\n",
    "    print(a+b)\n",
    "elif (num == 2):\n",
    "    print(a-b)\n",
    "elif (num == 3):\n",
    "    print(a*b)\n",
    "elif (num == 4):\n",
    "    print(a / b)\n",
    "elif (num == 5):\n",
    "    print(a%b)\n",
    "elif (num == 6):\n",
    "    print(a//b)\n",
    "elif (num == 7):\n",
    "    print(a**b)\n",
    "elif (num == 8):\n",
    "    print(\"You are outside of program now\")\n",
    "else:\n",
    "    prnt(\"please enter a corrcet number\")\n",
    "\n",
    "\n"
   ]
  },
  {
   "cell_type": "code",
   "execution_count": 17,
   "metadata": {
    "id": "1e2gwYLqdC1s"
   },
   "outputs": [
    {
     "name": "stdout",
     "output_type": "stream",
     "text": [
      "Enter a year: 2000\n",
      "You have entered a leap year\n"
     ]
    }
   ],
   "source": [
    "# W A P to check whether a year entered by user is an leap year or not?\n",
    "# Check with below input:-\n",
    "#     leap year:- 2012, 1968, 2004, 1200, 1600,2400\n",
    "#     Non-lear year:- 1971, 2006, 1700,1800,1900\n",
    "a=int(input(\"Enter a year: \"))\n",
    "if a%4 ==0:\n",
    "    print(\"You have entered a leap year\")\n",
    "else:\n",
    "    print(\"Its not a leap year\")\n"
   ]
  },
  {
   "cell_type": "code",
   "execution_count": 21,
   "metadata": {
    "id": "_tpXv1EtdEre"
   },
   "outputs": [
    {
     "name": "stdout",
     "output_type": "stream",
     "text": [
      "Enter a year: 3\n",
      "You have entered a odd number 3\n"
     ]
    }
   ],
   "source": [
    "# W A P which takes one number from the user and checks whether it is an even or odd number?, If it even then prints number is \n",
    "# even number else prints that number is odd number.\n",
    "a=int(input(\"Enter a number: \"))\n",
    "if a%2 ==0:\n",
    "    print(\"You have entered a even number\",a)\n",
    "else:\n",
    "    print(\"You have entered a odd number\",a)\n",
    "\n"
   ]
  },
  {
   "cell_type": "code",
   "execution_count": 25,
   "metadata": {
    "id": "Q1HumymCdG6i"
   },
   "outputs": [
    {
     "name": "stdout",
     "output_type": "stream",
     "text": [
      "Enter a number: 7\n",
      "Enter a number: 5\n",
      "num1 is greater than num2\n"
     ]
    }
   ],
   "source": [
    "# W A P which takes two numbers from the user and prints below output:-\n",
    "#     1. num1 is greater than num2 if num1 is greater than num2\n",
    "#     2. num1 is smaller than num2 if num1 is smaller than num2\n",
    "#     3. num1 is equal to num2 if num1 and num2 are equal\n",
    "\n",
    "# Note:- 1. Do this problem using if - else \n",
    "#       2. Do this using ternary operator\n",
    "num1=int(input(\"Enter a number: \"))\n",
    "num2=int(input(\"Enter a number: \"))\n",
    "if num1 > num2:\n",
    "    print(\"num1 is greater than num2\")\n",
    "elif num1 < num2:\n",
    "    print(\"num1 is smaller than num2\")\n",
    "elif num1 == num2:\n",
    "    print(\"num1 is equal to num2\")\n",
    "else:\n",
    "    print(\"Nothing\")\n",
    "\n"
   ]
  },
  {
   "cell_type": "markdown",
   "metadata": {
    "id": "LR6TVB-DdOPf"
   },
   "source": [
    "W A P which takes three numbers from the user and prints below output:-\n",
    "    1. num1 is greater than num2 and num3 if num1 is greater than num2 and num3\n",
    "    2. num2 is greater than num1 and num3 if num2 is greater than num1 and num3\n",
    "    3. num3 is greater than num1 and num2 if num3 is greater than num1 and num2\n",
    "\n",
    "Note:- 1. Do this problem using if - elif - else \n",
    "      2. Do this using ternary operator\n",
    "\n",
    "a = a if a>b else b\n",
    "\n"
   ]
  },
  {
   "cell_type": "markdown",
   "metadata": {
    "id": "IoOLQMUGdSox"
   },
   "source": [
    "# Loops - for loop, while loop"
   ]
  },
  {
   "cell_type": "code",
   "execution_count": 37,
   "metadata": {
    "id": "9K23Uld8dQfA"
   },
   "outputs": [
    {
     "name": "stdout",
     "output_type": "stream",
     "text": [
      "55\n",
      "Length of string is:  55\n"
     ]
    }
   ],
   "source": [
    "#Write a Python program to find the length of the my_str using loop:-\n",
    "\n",
    "Input= 'Write a Python program to find the length of the my_str'\n",
    "print(len(Input))\n",
    "#Output:- 55\n",
    "count=0\n",
    "for i in range(0,len(Input)):\n",
    "    count+=1\n",
    "print(\"Length of string is: \",count)\n"
   ]
  },
  {
   "cell_type": "code",
   "execution_count": 40,
   "metadata": {
    "id": "bp6AcqTsdYxy"
   },
   "outputs": [
    {
     "name": "stdout",
     "output_type": "stream",
     "text": [
      "P is repeated as  9\n"
     ]
    }
   ],
   "source": [
    "#Write a Python program to find the total number of times letter 'p' is appeared in the below string using loop:-\n",
    "    \n",
    "Input='peter piper picked a peck of pickled peppers.\\n'\n",
    "#Output:- 9\n",
    "count=0\n",
    "for i in Input:\n",
    "    if i=='p':\n",
    "        count=count+1\n",
    "print(\"P is repeated as \",count)\n",
    "\n"
   ]
  },
  {
   "cell_type": "code",
   "execution_count": 43,
   "metadata": {
    "id": "xvxSBhTJdav1"
   },
   "outputs": [
    {
     "name": "stdout",
     "output_type": "stream",
     "text": [
      "[0, 6, 8, 12, 21, 29, 37, 39, 40]\n"
     ]
    }
   ],
   "source": [
    "# Write a Python Program, to print all the indexes of all occurences of letter 'p' appeared in the string using loop:-\n",
    "    \n",
    "Input='peter piper picked a peck of pickled peppers.'\n",
    "# Output:- \n",
    "# 0\n",
    "# 6\n",
    "# 8\n",
    "# 12\n",
    "# 21\n",
    "# 29\n",
    "# 37\n",
    "# 39\n",
    "# 40\n",
    "count=[]\n",
    "for i in range(0,len(Input)):\n",
    "    if Input[i]=='p':\n",
    "        count.append(i)\n",
    "print(count)"
   ]
  },
  {
   "cell_type": "markdown",
   "metadata": {
    "id": "79L_feMadbmw"
   },
   "source": [
    "<!-- Write a python program to find below output using loop:- -->\n",
    "\n",
    "Input:- 'peter piper picked a peck of pickled peppers.'\n",
    "Output:- ['peter', 'piper', 'picked', 'a', 'peck', 'of', 'pickled', 'peppers']\n",
    "\n",
    "Input=Input.split(\" \")\n",
    "print(Input,end=\" \")"
   ]
  },
  {
   "cell_type": "code",
   "execution_count": null,
   "metadata": {
    "id": "vzs5AJ53deVS"
   },
   "outputs": [],
   "source": [
    "Write a python program to find below output using loop:-\n",
    "\n",
    "Input='peter piper picked a peck of pickled peppers.'\n",
    "#Output:- 'peppers pickled of peck a picked piper peter'\n",
    "for i in Input:\n",
    "    \n"
   ]
  },
  {
   "cell_type": "code",
   "execution_count": 45,
   "metadata": {
    "id": "i-HP7DrCdhwS"
   },
   "outputs": [
    {
     "name": "stdout",
     "output_type": "stream",
     "text": [
      ".sreppep delkcip fo kcep a dekcip repip retep\n"
     ]
    }
   ],
   "source": [
    "#Write a python program to find below output using loop:-\n",
    "\n",
    "Input= 'peter piper picked a peck of pickled peppers.'\n",
    "#Output:- '.sreppep delkcip fo kcep a dekcip repip retep'\n",
    "st=\"\"\n",
    "for i in Input:\n",
    "    st=i+st\n",
    "print(st)\n"
   ]
  },
  {
   "cell_type": "code",
   "execution_count": null,
   "metadata": {
    "id": "3rt6p0ytdkq0"
   },
   "outputs": [],
   "source": [
    "Write a python program to find below output using loop:-\n",
    "\n",
    "Input:- 'peter piper picked a peck of pickled peppers.'\n",
    "Output:- 'retep repip dekcip a kcep fo delkcip sreppep'"
   ]
  },
  {
   "cell_type": "code",
   "execution_count": 60,
   "metadata": {
    "id": "HdlAWgT2dnKO"
   },
   "outputs": [
    {
     "name": "stdout",
     "output_type": "stream",
     "text": [
      "peter piper picked a peck of pickled peppers.\n"
     ]
    }
   ],
   "source": [
    "#Write a python program to find below output using loop:-\n",
    "\n",
    "Input= 'peter piper picked a peck of pickled peppers.'\n",
    "#Output:- 'Peter Piper Picked A Peck Of Pickled Peppers'\n",
    "for i in Input:\n",
    "    i=i.upper()\n",
    "print(Input)"
   ]
  },
  {
   "cell_type": "code",
   "execution_count": null,
   "metadata": {
    "id": "OthUuacodrNl"
   },
   "outputs": [],
   "source": [
    "Write a python program to find below output using loop:-\n",
    "\n",
    "Input:- 'Peter Piper Picked A Peck Of Pickled Peppers.'\n",
    "Output:- 'Peter piper picked a peck of pickled peppers'"
   ]
  },
  {
   "cell_type": "code",
   "execution_count": 67,
   "metadata": {
    "colab": {
     "base_uri": "https://localhost:8080/",
     "height": 34
    },
    "id": "scmDJE-ldsI9",
    "outputId": "4b1d1979-9f4a-4bc6-c505-b88b1bbd4d5d"
   },
   "outputs": [],
   "source": [
    "# Write a python program to implement index method using loop. If sub_str is found in my_str then it will print the index\n",
    "# of first occurrence of first character of matching string in my_str:-\n",
    "\n",
    "#Input:- my_str = 'Peter Piper Picked A Peck Of Pickled Peppers.', sub_str = 'Pickl'\n",
    "#Output:- 29\n",
    "sub_str = 'Pickl'\n",
    "my_str = 'Peter Piper Picked A Peck Of Pickled Peppers.'\n",
    "for i in range(0,len(my_str)):\n",
    "    if my_str[i] == '%Pickl':\n",
    "        print(\"Index\",i)\n"
   ]
  },
  {
   "cell_type": "code",
   "execution_count": null,
   "metadata": {
    "id": "Kq_fwdb_dvYE"
   },
   "outputs": [],
   "source": [
    "Write a python program to implement replace method using loop. If sub_str is found in my_str then it will replace the first \n",
    "occurrence of sub_str with new_str else it will will print sub_str not found:-\n",
    "\n",
    "Input:- my_str = 'Peter Piper Picked A Peck Of Pickled Peppers.', sub_str = 'Peck', new_str = 'Pack'\n",
    "Output:- 'Peter Piper Picked A Pack Of Pickled Peppers.'\n",
    "\n",
    "\n"
   ]
  },
  {
   "cell_type": "code",
   "execution_count": null,
   "metadata": {
    "id": "4Qes5D0cdyd1"
   },
   "outputs": [],
   "source": [
    "Write a python program to find below output (implements rjust and ljust) using loop:-\n",
    "\n",
    "Input:- 'Peter Piper Picked A Peck Of Pickled Peppers.', sub_str = 'Peck', \n",
    "Output:- '*********************Peck********************'\n",
    "\n",
    "\n",
    "\n"
   ]
  },
  {
   "cell_type": "code",
   "execution_count": 63,
   "metadata": {
    "id": "DsOrb07Od0lR"
   },
   "outputs": [
    {
     "name": "stdout",
     "output_type": "stream",
     "text": [
      "['This', ' Python class']\n"
     ]
    }
   ],
   "source": [
    "#Write a python program to find below output using loop:-\n",
    "\n",
    "# Input:- 'This is Python class', sep = ' is', \n",
    "# Output:- ['This', 'is', 'Python class']\n",
    "Input = 'This is Python class'\n",
    "Input=Input.split(\" is\")\n",
    "print(Input)\n"
   ]
  },
  {
   "cell_type": "code",
   "execution_count": null,
   "metadata": {
    "id": "jRnBVufmd2Ay"
   },
   "outputs": [],
   "source": [
    "\n",
    "\n"
   ]
  }
 ],
 "metadata": {
  "colab": {
   "name": "Conditional_and_loop_assignment.ipynb",
   "provenance": []
  },
  "kernelspec": {
   "display_name": "Python 3",
   "language": "python",
   "name": "python3"
  },
  "language_info": {
   "codemirror_mode": {
    "name": "ipython",
    "version": 3
   },
   "file_extension": ".py",
   "mimetype": "text/x-python",
   "name": "python",
   "nbconvert_exporter": "python",
   "pygments_lexer": "ipython3",
   "version": "3.8.8"
  }
 },
 "nbformat": 4,
 "nbformat_minor": 1
}
