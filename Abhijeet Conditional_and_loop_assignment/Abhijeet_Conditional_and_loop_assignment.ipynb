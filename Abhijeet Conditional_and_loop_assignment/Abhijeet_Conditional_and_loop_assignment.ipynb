{
 "cells": [
  {
   "cell_type": "markdown",
   "metadata": {
    "id": "wNRNTbrsc53d"
   },
   "source": [
    "# If - elif - else statement"
   ]
  },
  {
   "cell_type": "code",
   "execution_count": null,
   "metadata": {
    "id": "MiPfTnBycxNa"
   },
   "outputs": [],
   "source": [
    "# W. A P. which takes one number from 0 to 9 from the user and prints it in the word. And if \\\n",
    "# the word is not from 0 to 9 then\n",
    "# it should print that number is outside of the range and program should exit.\n",
    "# For exapmple:- \n",
    "# input = 1\n",
    "# output = one"
   ]
  },
  {
   "cell_type": "code",
   "execution_count": 1,
   "metadata": {},
   "outputs": [],
   "source": [
    "names = 'zero','one','two','three','four','five','six','seven','eight','nine'"
   ]
  },
  {
   "cell_type": "code",
   "execution_count": 11,
   "metadata": {},
   "outputs": [
    {
     "name": "stdout",
     "output_type": "stream",
     "text": [
      "Enter a Digit: 133\n",
      "The number 133 is outside range\n"
     ]
    }
   ],
   "source": [
    "digit = int(input('Enter a Digit: '))\n",
    "if (digit < 10) and (digit >= 0):\n",
    "    print(names[digit])\n",
    "else:\n",
    "    print('The number', digit, 'is outside range')"
   ]
  },
  {
   "cell_type": "code",
   "execution_count": 2,
   "metadata": {
    "id": "vEMNOv9zdA39"
   },
   "outputs": [],
   "source": [
    "# \n",
    "# W. A P. to implement calculator but the operation to be done and two numbers will be taken as input from user:-\n",
    "# Operation console should show below:-\n",
    "#     Please select any one operation from below:-\n",
    "#         * To add enter 1\n",
    "#         * to subtract enter 2\n",
    "#         * To multiply enter 3\n",
    "#         * To divide enter 4\n",
    "#         * To divide and find quotient enter 5\n",
    "#         * To divide and find remainder enter 6\n",
    "#         * To divide and find num1 to the power of num2 enter 7\n",
    "#         * To Come out of the program enter 8`"
   ]
  },
  {
   "cell_type": "code",
   "execution_count": 25,
   "metadata": {},
   "outputs": [
    {
     "name": "stdout",
     "output_type": "stream",
     "text": [
      "enter 1st number: 2\n",
      "enter 2nd number: 7\n",
      "Please select any one operation from below:-\n",
      "        * To add enter 1\n",
      "        * to subtract enter 2\n",
      "        * To multiply enter 3\n",
      "        * To divide enter 4\n",
      "        * To divide and find quotient enter 5\n",
      "        * To divide and find remainder enter 6\n",
      "        * To divide and find num1 to the power of num2 enter 7\n",
      "        * To Come out of the program enter 8 \n",
      " 8\n"
     ]
    }
   ],
   "source": [
    "a = input(\"enter 1st number: \")\n",
    "b = input(\"enter 2nd number: \")\n",
    "op = input(\"\"\"Please select any one operation from below:-\n",
    "        * To add enter 1\n",
    "        * to subtract enter 2\n",
    "        * To multiply enter 3\n",
    "        * To divide enter 4\n",
    "        * To divide and find quotient enter 5\n",
    "        * To divide and find remainder enter 6\n",
    "        * To divide and find num1 to the power of num2 enter 7\n",
    "        * To Come out of the program enter 8 \\n \"\"\")\n",
    "\n",
    "ops = ['','+','-','*','/','//','%','**','']\n",
    "if int(op) != 8:\n",
    "    result = eval(str(a) + ops[int(op)] + str(b))\n",
    "    print(a, ops[int(op)],b,'=' ,result)"
   ]
  },
  {
   "cell_type": "code",
   "execution_count": 26,
   "metadata": {
    "id": "1e2gwYLqdC1s"
   },
   "outputs": [],
   "source": [
    "# W A P to check whether a year entered by user is an leap year or not?\n",
    "# Check with below input:-\n",
    "#     leap year:- 2012, 1968, 2004, 1200, 1600,2400\n",
    "#     Non-lear year:- 1971, 2006, 1700,1800,1900"
   ]
  },
  {
   "cell_type": "code",
   "execution_count": 36,
   "metadata": {},
   "outputs": [
    {
     "name": "stdout",
     "output_type": "stream",
     "text": [
      "Enter the year: 2100\n",
      "2100 is not a leap year.\n"
     ]
    }
   ],
   "source": [
    "year = input('Enter the year: ')\n",
    "year = int(year)\n",
    "if (year%400) == 0:\n",
    "    print(year, 'is a leap year.')\n",
    "elif (year%100) == 0:\n",
    "    print(year, 'is not a leap year.')\n",
    "elif (year%4) == 0:\n",
    "    print(year, 'is a leap year.')\n",
    "else:\n",
    "    print(year,'is not a leap year.')"
   ]
  },
  {
   "cell_type": "code",
   "execution_count": 37,
   "metadata": {
    "id": "_tpXv1EtdEre"
   },
   "outputs": [],
   "source": [
    "# W A P which takes one number from the user and checks whether it is an even or odd number?, \n",
    "# If it even then prints number is even number else prints that number is odd number."
   ]
  },
  {
   "cell_type": "code",
   "execution_count": 40,
   "metadata": {},
   "outputs": [
    {
     "name": "stdout",
     "output_type": "stream",
     "text": [
      "Enter the number: 22\n",
      "EVEN\n"
     ]
    }
   ],
   "source": [
    "num = int(input('Enter the number: '))\n",
    "if num%2:\n",
    "    print('ODD')\n",
    "else:\n",
    "    print('EVEN')"
   ]
  },
  {
   "cell_type": "code",
   "execution_count": 41,
   "metadata": {
    "id": "Q1HumymCdG6i"
   },
   "outputs": [],
   "source": [
    "# W A P which takes two numbers from the user and prints below output:-\n",
    "#     1. num1 is greater than num2 if num1 is greater than num2\n",
    "#     2. num1 is smaller than num2 if num1 is smaller than num2\n",
    "#     3. num1 is equal to num2 if num1 and num2 are equal\n",
    "\n",
    "# Note:- 1. Do this problem using if - else \n",
    "#       2. Do this using ternary operator"
   ]
  },
  {
   "cell_type": "code",
   "execution_count": 44,
   "metadata": {},
   "outputs": [
    {
     "name": "stdout",
     "output_type": "stream",
     "text": [
      "Enter 1st Number: 2\n",
      "Enter 2nd Number: 23\n",
      "2 is smaller than 23\n"
     ]
    }
   ],
   "source": [
    "c = int(input('Enter 1st Number: '))\n",
    "d = int(input('Enter 2nd Number: '))\n",
    "\n",
    "if c > d:\n",
    "    print(c, 'is greater than',d)\n",
    "elif c < d:\n",
    "    print(c, 'is smaller than',d)\n",
    "else:\n",
    "    print(c,'is equal to',d)"
   ]
  },
  {
   "cell_type": "code",
   "execution_count": 1,
   "metadata": {},
   "outputs": [
    {
     "name": "stdout",
     "output_type": "stream",
     "text": [
      "Enter 1st Number: 23\n",
      "Enter 2nd Number: 21\n"
     ]
    },
    {
     "data": {
      "text/plain": [
       "'num1 is greater than num2'"
      ]
     },
     "execution_count": 1,
     "metadata": {},
     "output_type": "execute_result"
    }
   ],
   "source": [
    "# USING A Ternary Operator\n",
    "c = int(input('Enter 1st Number: '))\n",
    "d = int(input('Enter 2nd Number: '))\n",
    "'num1 is greater than num2' if c>d else ('num1 is smaller than num2' if c<d else 'num1 and num2 are equal')"
   ]
  },
  {
   "cell_type": "code",
   "execution_count": 45,
   "metadata": {
    "id": "LR6TVB-DdOPf"
   },
   "outputs": [],
   "source": [
    "# W A P which takes three numbers from the user and prints below output:-\n",
    "#     1. num1 is greater than num2 and num3 if num1 is greater than num2 and num3\n",
    "#     2. num2 is greater than num1 and num3 if num2 is greater than num1 and num3\n",
    "#     3. num3 is greater than num1 and num2 if num3 is greater than num1 and num2\n",
    "\n",
    "# Note:- 1. Do this problem using if - elif - else \n",
    "#       2. Do this using ternary operator\n",
    "\n",
    "# a = a if a>b else b"
   ]
  },
  {
   "cell_type": "code",
   "execution_count": 8,
   "metadata": {},
   "outputs": [
    {
     "name": "stdout",
     "output_type": "stream",
     "text": [
      "Enter 1st Number: 23\n",
      "Enter 2nd Number: 23\n",
      "Enter 3rd Number: 25\n",
      "num3 is greater than num1 and num2\n"
     ]
    }
   ],
   "source": [
    "e = int(input('Enter 1st Number: '))\n",
    "f = int(input('Enter 2nd Number: '))\n",
    "g = int(input('Enter 3rd Number: '))\n",
    "\n",
    "if (e > f) and (e > g):\n",
    "    print('num1 is greater than num2 and num3')\n",
    "elif (f > e) and (f > g):\n",
    "    print('num2 is greater than num1 and num3')\n",
    "elif (g > f) and (g > e):\n",
    "    print('num3 is greater than num1 and num2')\n",
    "else:\n",
    "    print('please enter proper input.')"
   ]
  },
  {
   "cell_type": "code",
   "execution_count": 12,
   "metadata": {},
   "outputs": [
    {
     "name": "stdout",
     "output_type": "stream",
     "text": [
      "Enter 1st Number: 1010\n",
      "Enter 2nd Number: 100\n",
      "Enter 3rd Number: 12200\n"
     ]
    },
    {
     "data": {
      "text/plain": [
       "'num3 is greater than num1 and num2'"
      ]
     },
     "execution_count": 12,
     "metadata": {},
     "output_type": "execute_result"
    }
   ],
   "source": [
    "e = int(input('Enter 1st Number: '))\n",
    "f = int(input('Enter 2nd Number: '))\n",
    "g = int(input('Enter 3rd Number: '))\n",
    "\n",
    "'num1 is greater than num2 and num3' if ((e > f) and (e > g)) else ('num2 is greater than num1 and num3'\\\n",
    "                        if ((f > e) and (f > g)) else 'num3 is greater than num1 and num2')"
   ]
  },
  {
   "cell_type": "markdown",
   "metadata": {
    "id": "IoOLQMUGdSox"
   },
   "source": [
    "# Loops - for loop, while loop"
   ]
  },
  {
   "cell_type": "code",
   "execution_count": 62,
   "metadata": {
    "id": "9K23Uld8dQfA"
   },
   "outputs": [],
   "source": [
    "# Write a Python program to find the length of the my_str using loop:-\n",
    "\n",
    "# Input:- 'Write a Python program to find the length of the my_str'\n",
    "# Output:- 55\n"
   ]
  },
  {
   "cell_type": "code",
   "execution_count": 63,
   "metadata": {},
   "outputs": [
    {
     "name": "stdout",
     "output_type": "stream",
     "text": [
      "Enter a string: jh\n",
      "The lenght of given string is  2\n"
     ]
    }
   ],
   "source": [
    "stringer = input('Enter a string: ')\n",
    "counter = 0\n",
    "for i in stringer:\n",
    "    counter +=1\n",
    "print('The lenght of given string is ',counter)"
   ]
  },
  {
   "cell_type": "code",
   "execution_count": 15,
   "metadata": {
    "id": "bp6AcqTsdYxy"
   },
   "outputs": [],
   "source": [
    "# Write a Python program to find the total number of times letter 'p' is appeared in the below string using loop:-\n",
    "    \n",
    "# Input:- 'peter piper picked a peck of pickled peppers.\\n'\n",
    "# Output:- 9\n",
    "\n"
   ]
  },
  {
   "cell_type": "code",
   "execution_count": 18,
   "metadata": {},
   "outputs": [
    {
     "name": "stdout",
     "output_type": "stream",
     "text": [
      " 'p' appeared 9 times in given input\n"
     ]
    }
   ],
   "source": [
    "Input =  'peter piper picked a peck of pickled peppers.'\n",
    "counter = 0\n",
    "for i in Input:\n",
    "    if i.lower() == 'p':\n",
    "        counter+= 1\n",
    "print(\" 'p' appeared {} times in given input\".format(counter))"
   ]
  },
  {
   "cell_type": "code",
   "execution_count": 64,
   "metadata": {
    "id": "xvxSBhTJdav1"
   },
   "outputs": [],
   "source": [
    "# Write a Python Program, to print all the indexes of all occurences of letter 'p' \n",
    "# appeared in the string using loop:-\n",
    "    \n",
    "# Input:- 'peter piper picked a peck of pickled peppers.'\n",
    "# Output:- \n",
    "# 0\n",
    "# 6\n",
    "# 8\n",
    "# 12\n",
    "# 21\n",
    "# 29\n",
    "# 37\n",
    "# 39\n",
    "# 40"
   ]
  },
  {
   "cell_type": "code",
   "execution_count": 65,
   "metadata": {},
   "outputs": [
    {
     "name": "stdout",
     "output_type": "stream",
     "text": [
      "0\n",
      "6\n",
      "8\n",
      "12\n",
      "21\n",
      "29\n",
      "37\n",
      "39\n",
      "40\n"
     ]
    }
   ],
   "source": [
    "Input = 'peter piper picked a peck of pickled peppers.'\n",
    "for counter, element in enumerate(Input):\n",
    "    if element.lower() == 'p':\n",
    "        print(counter)"
   ]
  },
  {
   "cell_type": "code",
   "execution_count": null,
   "metadata": {
    "id": "79L_feMadbmw"
   },
   "outputs": [],
   "source": [
    "# Write a python program to find below output using loop:-\n",
    "\n",
    "# Input:- 'peter piper picked a peck of pickled peppers.'\n",
    "# Output:- ['peter', 'piper', 'picked', 'a', 'peck', 'of', 'pickled', 'peppers']"
   ]
  },
  {
   "cell_type": "code",
   "execution_count": 21,
   "metadata": {},
   "outputs": [
    {
     "name": "stdout",
     "output_type": "stream",
     "text": [
      "['peter', 'piper', 'picked', 'a', 'peck', 'of', 'pickled', 'peppers.']\n"
     ]
    }
   ],
   "source": [
    "Input = 'peter piper picked a peck of pickled peppers.'\n",
    "Output = Input.split(' ')\n",
    "print(Output)"
   ]
  },
  {
   "cell_type": "code",
   "execution_count": null,
   "metadata": {
    "id": "vzs5AJ53deVS"
   },
   "outputs": [],
   "source": [
    "# Write a python program to find below output using loop:-\n",
    "\n",
    "# Input:- 'peter piper picked a peck of pickled peppers.'\n",
    "# Output:- 'peppers pickled of peck a picked piper peter'\n",
    "\n"
   ]
  },
  {
   "cell_type": "code",
   "execution_count": 22,
   "metadata": {},
   "outputs": [
    {
     "name": "stdout",
     "output_type": "stream",
     "text": [
      "['peppers.', 'pickled', 'of', 'peck', 'a', 'picked', 'piper', 'peter']\n"
     ]
    }
   ],
   "source": [
    "Input = 'peter piper picked a peck of pickled peppers.'\n",
    "Output = Input.split(' ')\n",
    "print(Output[::-1])"
   ]
  },
  {
   "cell_type": "code",
   "execution_count": null,
   "metadata": {
    "id": "i-HP7DrCdhwS"
   },
   "outputs": [],
   "source": [
    "# Write a python program to find below output using loop:-\n",
    "\n",
    "# Input:- 'peter piper picked a peck of pickled peppers.'\n",
    "# Output:- '.sreppep delkcip fo kcep a dekcip repip retep'\n",
    "\n"
   ]
  },
  {
   "cell_type": "code",
   "execution_count": 23,
   "metadata": {},
   "outputs": [
    {
     "name": "stdout",
     "output_type": "stream",
     "text": [
      ".sreppep delkcip fo kcep a dekcip repip retep\n"
     ]
    }
   ],
   "source": [
    "Input = 'peter piper picked a peck of pickled peppers.'\n",
    "Output = Input[::-1]\n",
    "print(Output)"
   ]
  },
  {
   "cell_type": "code",
   "execution_count": null,
   "metadata": {
    "id": "3rt6p0ytdkq0"
   },
   "outputs": [],
   "source": [
    "# Write a python program to find below output using loop:-\n",
    "\n",
    "# Input:- 'peter piper picked a peck of pickled peppers.'\n",
    "# Output:- 'retep repip dekcip a kcep fo delkcip sreppep'"
   ]
  },
  {
   "cell_type": "code",
   "execution_count": 26,
   "metadata": {},
   "outputs": [
    {
     "name": "stdout",
     "output_type": "stream",
     "text": [
      "retep repip dekcip a kcep fo delkcip .sreppep "
     ]
    }
   ],
   "source": [
    "Input = 'peter piper picked a peck of pickled peppers.'\n",
    "Output = Input.split(' ')\n",
    "for i in Output:\n",
    "    print(i[::-1], end=' ')"
   ]
  },
  {
   "cell_type": "code",
   "execution_count": null,
   "metadata": {
    "id": "HdlAWgT2dnKO"
   },
   "outputs": [],
   "source": [
    "# Write a python program to find below output using loop:-\n",
    "\n",
    "# Input:- 'peter piper picked a peck of pickled peppers.'\n",
    "# Output:- 'Peter Piper Picked A Peck Of Pickled Peppers'"
   ]
  },
  {
   "cell_type": "code",
   "execution_count": 28,
   "metadata": {},
   "outputs": [
    {
     "name": "stdout",
     "output_type": "stream",
     "text": [
      "Peter Piper Picked A Peck Of Pickled Peppers.\n"
     ]
    }
   ],
   "source": [
    "Input = 'peter piper picked a peck of pickled peppers.'\n",
    "Output = Input.title()\n",
    "print(Output)"
   ]
  },
  {
   "cell_type": "code",
   "execution_count": null,
   "metadata": {
    "id": "OthUuacodrNl"
   },
   "outputs": [],
   "source": [
    "# Write a python program to find below output using loop:-\n",
    "\n",
    "# Input:- 'Peter Piper Picked A Peck Of Pickled Peppers.'\n",
    "# Output:- 'Peter piper picked a peck of pickled peppers'"
   ]
  },
  {
   "cell_type": "code",
   "execution_count": 29,
   "metadata": {},
   "outputs": [
    {
     "name": "stdout",
     "output_type": "stream",
     "text": [
      "Peter piper picked a peck of pickled peppers.\n"
     ]
    }
   ],
   "source": [
    "Input = 'peter piper picked a peck of pickled peppers.'\n",
    "Output = Input.capitalize()\n",
    "print(Output)"
   ]
  },
  {
   "cell_type": "code",
   "execution_count": 60,
   "metadata": {
    "colab": {
     "base_uri": "https://localhost:8080/",
     "height": 34
    },
    "id": "scmDJE-ldsI9",
    "outputId": "4b1d1979-9f4a-4bc6-c505-b88b1bbd4d5d"
   },
   "outputs": [],
   "source": [
    "# Write a python program to implement index method using loop. \n",
    "#If sub_str is found in my_str then it will print the index\n",
    "# of first occurrence of first character of matching string in my_str:-\n",
    "\n",
    "# Input:- my_str = 'Peter Piper Picked A Peck Of Pickled Peppers.', sub_str = 'Pickl'\n",
    "# Output:- 29"
   ]
  },
  {
   "cell_type": "code",
   "execution_count": 61,
   "metadata": {},
   "outputs": [
    {
     "data": {
      "text/plain": [
       "29"
      ]
     },
     "execution_count": 61,
     "metadata": {},
     "output_type": "execute_result"
    }
   ],
   "source": [
    "Input = 'Peter Piper Picked A Peck Of Pickled Peppers.'\n",
    "sub_str = 'Pickl'\n",
    "Input.find('Pickl')"
   ]
  },
  {
   "cell_type": "code",
   "execution_count": 3,
   "metadata": {
    "id": "Kq_fwdb_dvYE"
   },
   "outputs": [],
   "source": [
    "# Write a python program to implement replace method using loop. If sub_str is found in my_str \n",
    "# then it will replace the first \n",
    "# occurrence of sub_str with new_str else it will will print sub_str not found:-\n",
    "\n",
    "# Input:- my_str = 'Peter Piper Picked A Peck Of Pickled Peppers.', sub_str = 'Peck', new_str = 'Pack'\n",
    "# Output:- 'Peter Piper Picked A Pack Of Pickled Peppers.'\n"
   ]
  },
  {
   "cell_type": "code",
   "execution_count": 24,
   "metadata": {},
   "outputs": [],
   "source": [
    "def replacer(string, substring, newstring):\n",
    "    if substring in string:\n",
    "        string = string.replace(substring,newstring, 1)\n",
    "    else:\n",
    "        print('Substring not found')\n",
    "    return string"
   ]
  },
  {
   "cell_type": "code",
   "execution_count": 25,
   "metadata": {
    "id": "4Qes5D0cdyd1"
   },
   "outputs": [
    {
     "name": "stdout",
     "output_type": "stream",
     "text": [
      "tomorrow is 75th independence day. 76th means 76th\n"
     ]
    }
   ],
   "source": [
    "a = 'tomorrow is 76th independence day. 76th means 76th'\n",
    "b = '76th'\n",
    "c = '75th'\n",
    "a = replacer(a,b,c)\n",
    "print(a)"
   ]
  },
  {
   "cell_type": "code",
   "execution_count": 26,
   "metadata": {},
   "outputs": [],
   "source": [
    "\n",
    "# Write a python program to find below output (implements rjust and ljust) using loop:-\n",
    "\n",
    "# Input:- 'Peter Piper Picked A Peck Of Pickled Peppers.', sub_str = 'Peck', \n",
    "# Output:- '*********************Peck********************'\n",
    "\n"
   ]
  },
  {
   "cell_type": "code",
   "execution_count": 58,
   "metadata": {},
   "outputs": [
    {
     "data": {
      "text/plain": [
       "'*********************Peck********************'"
      ]
     },
     "execution_count": 58,
     "metadata": {},
     "output_type": "execute_result"
    }
   ],
   "source": [
    "Input = 'Peter Piper Picked A Peck Of Pickled Peppers.'\n",
    "sub_str = 'Peck'\n",
    "\n",
    "beginner = Input.find(sub_str)\n",
    "\n",
    "sub_str = sub_str.rjust(beginner+len(sub_str),'*')\n",
    "\n",
    "sub_str = sub_str.ljust(len(Input),'*')\n",
    "\n",
    "sub_str\n",
    "\n"
   ]
  },
  {
   "cell_type": "code",
   "execution_count": null,
   "metadata": {},
   "outputs": [],
   "source": []
  }
 ],
 "metadata": {
  "colab": {
   "name": "Conditional_and_loop_assignment.ipynb",
   "provenance": []
  },
  "kernelspec": {
   "display_name": "Python 3",
   "language": "python",
   "name": "python3"
  },
  "language_info": {
   "codemirror_mode": {
    "name": "ipython",
    "version": 3
   },
   "file_extension": ".py",
   "mimetype": "text/x-python",
   "name": "python",
   "nbconvert_exporter": "python",
   "pygments_lexer": "ipython3",
   "version": "3.8.8"
  }
 },
 "nbformat": 4,
 "nbformat_minor": 1
}
