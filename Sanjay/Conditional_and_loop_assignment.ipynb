{
 "cells": [
  {
   "cell_type": "markdown",
   "metadata": {
    "id": "wNRNTbrsc53d"
   },
   "source": [
    "# If - elif - else statement"
   ]
  },
  {
   "cell_type": "code",
   "execution_count": 30,
   "metadata": {
    "id": "MiPfTnBycxNa"
   },
   "outputs": [
    {
     "name": "stdout",
     "output_type": "stream",
     "text": [
      "Enter the number from 0 to 9: 10\n",
      "Number is out of range\n"
     ]
    }
   ],
   "source": [
    "# W. A P. which takes one number from 0 to 9 from the user and prints it in the word. And if the word is not from 0 to 9 then\n",
    "# it should print that number is outside of the range and program should exit.\n",
    "# For exapmple:- \n",
    "# input = 1\n",
    "# output = one\n",
    "num=eval(input(\"Enter the number from 0 to 9: \"))\n",
    "if num==0:\n",
    "    print(\"zero\")\n",
    "elif num==1:\n",
    "    print(\"one\")\n",
    "elif num==2:\n",
    "    print(\"two\")\n",
    "elif num==3:\n",
    "    print(\"three\")\n",
    "elif num==4:\n",
    "    print(\"four\")\n",
    "elif num==5:\n",
    "    print(\"five\")\n",
    "elif num==6:\n",
    "    print(\"six\")\n",
    "elif num==7:\n",
    "    print(\"seven\")\n",
    "elif num==8:\n",
    "    print(\"eight\")\n",
    "elif num1==9:\n",
    "    print(\"nine\")\n",
    "else:\n",
    "    print(\"Number is out of range\")"
   ]
  },
  {
   "cell_type": "code",
   "execution_count": 28,
   "metadata": {
    "id": "vEMNOv9zdA39"
   },
   "outputs": [
    {
     "name": "stdout",
     "output_type": "stream",
     "text": [
      "Enter the first number: 8\n",
      "Enter the second number: 7\n",
      "Please select any one operation from below:-\n",
      "        * To add enter 1\n",
      "        * to subtract enter 2\n",
      "        * To multiply enter 3\n",
      "        * To divide enter 4\n",
      "        * To divide and find quotient enter 5\n",
      "        * To divide and find remainder enter 6\n",
      "        * To divide and find num1 to the power of num2 enter 7\n",
      "        * To Come out of the program enter 8 \n",
      "        9\n",
      "Invalid choice\n"
     ]
    }
   ],
   "source": [
    "# W. A P. to implement calculator but the operation to be done and two numbers will be taken as input from user:-\n",
    "# Operation console should show below:-\n",
    "num1=eval(input(\"Enter the first number: \"))\n",
    "num2=eval(input(\"Enter the second number: \"))\n",
    "oper= eval(input('''Please select any one operation from below:-\n",
    "        * To add enter 1\n",
    "        * to subtract enter 2\n",
    "        * To multiply enter 3\n",
    "        * To divide enter 4\n",
    "        * To divide and find quotient enter 5\n",
    "        * To divide and find remainder enter 6\n",
    "        * To divide and find num1 to the power of num2 enter 7\n",
    "        * To Come out of the program enter 8 \n",
    "        '''))\n",
    "\n",
    "if oper==1:\n",
    "    print(\"Addition of two number is:\",num1+num2)\n",
    "elif oper==2:\n",
    "    print(\"Subtraction of two number is:\",num1-num2)\n",
    "elif oper==3:\n",
    "    print(\"Multiplication of two number is:\",num1*num2)\n",
    "elif oper==4:\n",
    "    print(\"Division of two number is:\",num1/num2)\n",
    "elif oper==5:\n",
    "    print(\"Quotient after division is:\",num1//num2)\n",
    "elif oper==6:\n",
    "    print(\"Remainder after division is:\",num1%num2)\n",
    "elif oper==7:\n",
    "    print(\"num1 power to num2 is: \",num1**num2)\n",
    "elif oper==8:\n",
    "    print(\"Program is terminated\")\n",
    "else:\n",
    "    print(\"Invalid choice\")\n",
    "\n"
   ]
  },
  {
   "cell_type": "code",
   "execution_count": 8,
   "metadata": {
    "id": "1e2gwYLqdC1s"
   },
   "outputs": [
    {
     "name": "stdout",
     "output_type": "stream",
     "text": [
      "Enter the year: 1971\n",
      "Non leap year\n"
     ]
    }
   ],
   "source": [
    "# W A P to check whether a year entered by user is an leap year or not?\n",
    "# Check with below input:-\n",
    "#     leap year:- 2012, 1968, 2004, 1200, 1600,2400\n",
    "#     Non-lear year:- 1971, 2006, 1700,1800,1900\n",
    "    \n",
    "inp_year=eval(input(\"Enter the year: \"))\n",
    "if inp_year%4==0:\n",
    "    print(\"Leap Year\")\n",
    "else:\n",
    "    print(\"Non leap year\")"
   ]
  },
  {
   "cell_type": "code",
   "execution_count": 10,
   "metadata": {
    "id": "_tpXv1EtdEre"
   },
   "outputs": [
    {
     "name": "stdout",
     "output_type": "stream",
     "text": [
      "Enter the number: 1\n",
      "Number is odd number\n"
     ]
    }
   ],
   "source": [
    "# W A P which takes one number from the user and checks whether it is an even or odd number?, If it even then prints number is \n",
    "# even number else prints that number is odd number.\n",
    "num1=eval(input(\"Enter the number: \"))\n",
    "if num1%2==0:\n",
    "    print(\"Number is even number\")\n",
    "else:\n",
    "    print(\"Number is odd number\")\n"
   ]
  },
  {
   "cell_type": "code",
   "execution_count": 17,
   "metadata": {
    "id": "Q1HumymCdG6i"
   },
   "outputs": [
    {
     "name": "stdout",
     "output_type": "stream",
     "text": [
      "Enter the first number: 8\n",
      "Enter the second number: 8\n",
      "num1 is equal to num2\n",
      "num1 is equal to num2\n"
     ]
    }
   ],
   "source": [
    "# W A P which takes two numbers from the user and prints below output:-\n",
    "#     1. num1 is greater than num2 if num1 is greater than num2\n",
    "#     2. num1 is smaller than num2 if num1 is smaller than num2\n",
    "#     3. num1 is equal to num2 if num1 and num2 are equal\n",
    "\n",
    "# Note:- 1. Do this problem using if - else \n",
    "#       2. Do this using ternary operator\n",
    "num1=eval(input(\"Enter the first number: \"))\n",
    "num2=eval(input(\"Enter the second number: \"))\n",
    "if num1!=num2:\n",
    "    if num1>num2:\n",
    "        print(\"num1 is greater than num2\")\n",
    "    else:\n",
    "        print(\"num1 is smaller than num2\")\n",
    "else:\n",
    "    print(\"num1 is equal to num2\")\n",
    "    \n",
    "print(\"num1 is greater than num2\") if num1>num2 else print(\"num1 is smaller than num2\") if num1<num2 else print(\"num1 is equal to num2\")    "
   ]
  },
  {
   "cell_type": "code",
   "execution_count": 21,
   "metadata": {
    "id": "LR6TVB-DdOPf"
   },
   "outputs": [
    {
     "name": "stdout",
     "output_type": "stream",
     "text": [
      "Enter the first number: 5\n",
      "Enter the second number: 6\n",
      "Enter the third number:8\n",
      "num3 is greater than num1 and num2\n",
      "num3 is greater than num1 and num2\n"
     ]
    }
   ],
   "source": [
    "# W A P which takes three numbers from the user and prints below output:-\n",
    "#     1. num1 is greater than num2 and num3 if num1 is greater than num2 and num3\n",
    "#     2. num2 is greater than num1 and num3 if num2 is greater than num1 and num3\n",
    "#     3. num3 is greater than num1 and num2 if num3 is greater than num1 and num2\n",
    "\n",
    "# Note:- 1. Do this problem using if - elif - else \n",
    "#       2. Do this using ternary operator\n",
    "\n",
    "# a = a if a>b else b\n",
    "\n",
    "num1=eval(input(\"Enter the first number: \"))\n",
    "num2=eval(input(\"Enter the second number: \"))\n",
    "num3=eval(input(\"Enter the third number:\"))\n",
    "if num1>num2 and num1>num3:\n",
    "    print(\"num1 is greater than num2 and num3\")\n",
    "elif num2>num3 and num2>num1:\n",
    "    print(\"num2 is greater than num1 and num3\")\n",
    "else:\n",
    "    print(\"num3 is greater than num1 and num2\")\n",
    "    \n",
    "print(\"num1 is greater than num2 and num3\") if num1>num2 and num1>num3 else print(\"num2 is greater than num1 and num3\") if num2>num3 and num2>num1 else print(\"num3 is greater than num1 and num2\")    "
   ]
  },
  {
   "cell_type": "markdown",
   "metadata": {
    "id": "IoOLQMUGdSox"
   },
   "source": [
    "# Loops - for loop, while loop"
   ]
  },
  {
   "cell_type": "code",
   "execution_count": 2,
   "metadata": {
    "id": "9K23Uld8dQfA"
   },
   "outputs": [
    {
     "name": "stdout",
     "output_type": "stream",
     "text": [
      "55\n"
     ]
    }
   ],
   "source": [
    "#Write a Python program to find the length of the my_str using loop:-\n",
    "\n",
    "#Input:- 'Write a Python program to find the length of the my_str'\n",
    "#Output:- 55\n",
    "my_str='Write a Python program to find the length of the my_str'\n",
    "count=0\n",
    "for i in my_str:\n",
    "    count=count+1\n",
    "print(count)    "
   ]
  },
  {
   "cell_type": "code",
   "execution_count": 3,
   "metadata": {
    "id": "bp6AcqTsdYxy"
   },
   "outputs": [
    {
     "name": "stdout",
     "output_type": "stream",
     "text": [
      "9\n"
     ]
    }
   ],
   "source": [
    "# Write a Python program to find the total number of times letter 'p' is appeared in the below string using loop:-\n",
    "    \n",
    "# Input:- 'peter piper picked a peck of pickled peppers.\\n'\n",
    "# Output:- 9\n",
    "my_str='peter piper picked a peck of pickled peppers.'\n",
    "count=0\n",
    "for i in my_str:\n",
    "    if i==\"p\":\n",
    "        count+=1\n",
    "print(count)        "
   ]
  },
  {
   "cell_type": "code",
   "execution_count": 5,
   "metadata": {
    "id": "xvxSBhTJdav1"
   },
   "outputs": [
    {
     "name": "stdout",
     "output_type": "stream",
     "text": [
      "0\n",
      "6\n",
      "8\n",
      "12\n",
      "21\n",
      "29\n",
      "37\n",
      "39\n",
      "40\n"
     ]
    }
   ],
   "source": [
    "# Write a Python Program, to print all the indexes of all occurences of letter 'p' appeared in the string using loop:-\n",
    "    \n",
    "# Input:- 'peter piper picked a peck of pickled peppers.'\n",
    "# Output:- \n",
    "# 0\n",
    "# 6\n",
    "# 8\n",
    "# 12\n",
    "# 21\n",
    "# 29\n",
    "# 37\n",
    "# 39\n",
    "# 40\n",
    "my_str='peter piper picked a peck of pickled peppers.'\n",
    "for i in range(0,len(my_str)):\n",
    "    if my_str[i]==\"p\":\n",
    "        print(i)"
   ]
  },
  {
   "cell_type": "code",
   "execution_count": 103,
   "metadata": {
    "id": "79L_feMadbmw"
   },
   "outputs": [
    {
     "name": "stdout",
     "output_type": "stream",
     "text": [
      "['peter', 'piper', 'picked', 'a', 'peck', 'of', 'pickled', 'peppers']\n"
     ]
    }
   ],
   "source": [
    "# Write a python program to find below output using loop:-\n",
    "\n",
    "# Input:- 'peter piper picked a peck of pickled peppers.'\n",
    "# Output:- ['peter', 'piper', 'picked', 'a', 'peck', 'of', 'pickled', 'peppers']\n",
    "my_str='peter piper picked a peck of pickled peppers.'\n",
    "lst=[]\n",
    "lst1=my_str.split()\n",
    "for each in lst1:\n",
    "    if each.isalnum()==False:\n",
    "        str1=\"\"\n",
    "        for j in each:\n",
    "            if j.isalnum()==True:\n",
    "                str1=str1+j\n",
    "        each=str1        \n",
    "    lst.append(each)\n",
    "print(lst)    \n",
    "    "
   ]
  },
  {
   "cell_type": "code",
   "execution_count": 102,
   "metadata": {
    "id": "vzs5AJ53deVS"
   },
   "outputs": [
    {
     "name": "stdout",
     "output_type": "stream",
     "text": [
      "peppers pickled of peck a picked piper peter\n"
     ]
    }
   ],
   "source": [
    "# Write a python program to find below output using loop:-\n",
    "\n",
    "# Input:- 'peter piper picked a peck of pickled peppers.'\n",
    "# Output:- 'peppers pickled of peck a picked piper peter'\n",
    "my_str='peter piper picked a peck of pickled peppers.'\n",
    "lst=my_str.split()\n",
    "lst1=[]\n",
    "for i in range(len(lst)):\n",
    "    if lst[i].isalnum()==False:\n",
    "        str1=\"\"\n",
    "        for j in lst[i]:\n",
    "            if j.isalnum()==True:\n",
    "                str1=str1+j        \n",
    "        lst[i]=str1\n",
    "    lst1.append(lst[i])\n",
    "lst1.reverse()\n",
    "print(\" \".join(lst1))"
   ]
  },
  {
   "cell_type": "code",
   "execution_count": 44,
   "metadata": {
    "id": "i-HP7DrCdhwS"
   },
   "outputs": [
    {
     "name": "stdout",
     "output_type": "stream",
     "text": [
      ".sreppep delkcip fo kcep a dekcip repip retep\n"
     ]
    }
   ],
   "source": [
    "# Write a python program to find below output using loop:-\n",
    "\n",
    "# Input:- 'peter piper picked a peck of pickled peppers.'\n",
    "# Output:- '.sreppep delkcip fo kcep a dekcip repip retep'\n",
    "my_str='peter piper picked a peck of pickled peppers.'\n",
    "str2=\"\"\n",
    "for each in range(len(my_str)):\n",
    "    str2=str2+my_str[len(my_str)-each-1]\n",
    "print(str2)"
   ]
  },
  {
   "cell_type": "code",
   "execution_count": 105,
   "metadata": {
    "id": "3rt6p0ytdkq0"
   },
   "outputs": [
    {
     "name": "stdout",
     "output_type": "stream",
     "text": [
      "retep repip dekcip a kcep fo delkcip sreppep\n"
     ]
    }
   ],
   "source": [
    "# Write a python program to find below output using loop:-\n",
    "\n",
    "# Input:- 'peter piper picked a peck of pickled peppers.'\n",
    "# Output:- 'retep repip dekcip a kcep fo delkcip sreppep'\n",
    "my_str='peter piper picked a peck of pickled peppers.'\n",
    "str2=\"\"\n",
    "for each in range(len(my_str)):\n",
    "    str2=str2+my_str[len(my_str)-each-1]    \n",
    "lst=[]\n",
    "lst1=str2.split()\n",
    "for i in range(len(lst1)):\n",
    "    if lst1[i].isalnum()==False:\n",
    "        str1=\"\"\n",
    "        for j in lst1[i]:\n",
    "            if j.isalnum()==True:\n",
    "                str1=str1+j        \n",
    "        lst1[i]=str1\n",
    "    lst.append(lst1[len(lst1)-i-1])\n",
    "print(\" \".join(lst))    "
   ]
  },
  {
   "cell_type": "code",
   "execution_count": 106,
   "metadata": {
    "id": "HdlAWgT2dnKO"
   },
   "outputs": [
    {
     "name": "stdout",
     "output_type": "stream",
     "text": [
      "Peter Piper Picked A Peck Of Pickled Peppers\n"
     ]
    }
   ],
   "source": [
    "# Write a python program to find below output using loop:-\n",
    "\n",
    "# Input:- 'peter piper picked a peck of pickled peppers.'\n",
    "# Output:- 'Peter Piper Picked A Peck Of Pickled Peppers'\n",
    "my_str='peter piper picked a peck of pickled peppers.'\n",
    "lst=[]\n",
    "for each in my_str.split():\n",
    "    if each.isalnum()==False:\n",
    "        str1=\"\"\n",
    "        for j in each:\n",
    "            if j.isalnum()==True:\n",
    "                str1=str1+j\n",
    "        each=str1 \n",
    "    lst.append(each.title())\n",
    "print(\" \".join(lst))    "
   ]
  },
  {
   "cell_type": "code",
   "execution_count": 108,
   "metadata": {
    "id": "OthUuacodrNl"
   },
   "outputs": [
    {
     "name": "stdout",
     "output_type": "stream",
     "text": [
      "Peter piper picked a peck of pickled peppers\n"
     ]
    }
   ],
   "source": [
    "# Write a python program to find below output using loop:-\n",
    "\n",
    "# Input:- 'Peter Piper Picked A Peck Of Pickled Peppers.'\n",
    "# Output:- 'Peter piper picked a peck of pickled peppers'\n",
    "my_str='peter piper picked a peck of pickled peppers.'\n",
    "lst=[]\n",
    "lst1=my_str.split()\n",
    "for i in range(len(lst1)):\n",
    "    if lst1[i].isalnum()==False:\n",
    "        str1=\"\"\n",
    "        for j in lst1[i]:\n",
    "            if j.isalnum()==True:\n",
    "                str1=str1+j        \n",
    "        lst1[i]=str1\n",
    "    if i==0:\n",
    "        lst.append(lst1[i].title())\n",
    "    else:\n",
    "        lst.append(lst1[i])\n",
    "print(\" \".join(lst))        "
   ]
  },
  {
   "cell_type": "code",
   "execution_count": 8,
   "metadata": {
    "colab": {
     "base_uri": "https://localhost:8080/",
     "height": 34
    },
    "id": "scmDJE-ldsI9",
    "outputId": "4b1d1979-9f4a-4bc6-c505-b88b1bbd4d5d"
   },
   "outputs": [
    {
     "name": "stdout",
     "output_type": "stream",
     "text": [
      "29\n"
     ]
    }
   ],
   "source": [
    "# Write a python program to implement index method using loop. If sub_str is found in my_str then it will print the index\n",
    "# of first occurrence of first character of matching string in my_str:-\n",
    "\n",
    "# Input:- my_str = 'Peter Piper Picked A Peck Of Pickled Peppers.', sub_str = 'Pickl'\n",
    "# Output:- 29\n",
    "my_str = 'Peter Piper Picked A Peck Of Pickled Peppers.'\n",
    "sub_str = 'Pickl'\n",
    "lst=my_str.split(\" \")\n",
    "length=0\n",
    "for i in lst:\n",
    "    if sub_str in i:\n",
    "        print(length)\n",
    "    else:\n",
    "        length=length+len(i)+1"
   ]
  },
  {
   "cell_type": "code",
   "execution_count": 11,
   "metadata": {
    "id": "Kq_fwdb_dvYE"
   },
   "outputs": [
    {
     "name": "stdout",
     "output_type": "stream",
     "text": [
      "Peter Piper Picked A Pack Of Pickled Peppers.\n"
     ]
    }
   ],
   "source": [
    "# Write a python program to implement replace method using loop. If sub_str is found in my_str then it will replace the first \n",
    "# occurrence of sub_str with new_str else it will will print sub_str not found:-\n",
    "\n",
    "# Input:- my_str = 'Peter Piper Picked A Peck Of Pickled Peppers.', sub_str = 'Peck', new_str = 'Pack'\n",
    "# Output:- 'Peter Piper Picked A Pack Of Pickled Peppers.'\n",
    "\n",
    "my_str = 'Peter Piper Picked A Peck Of Pickled Peppers.' \n",
    "sub_str = 'Peck'\n",
    "new_str = 'Pack'\n",
    "lst=my_str.split()\n",
    "for i in range(len(lst)):\n",
    "    if sub_str in lst[i]:\n",
    "        lst[i]=new_str        \n",
    "print(\" \".join(lst))       "
   ]
  },
  {
   "cell_type": "code",
   "execution_count": 47,
   "metadata": {
    "id": "4Qes5D0cdyd1"
   },
   "outputs": [
    {
     "name": "stdout",
     "output_type": "stream",
     "text": [
      "Peter Piper Picked A Peck Of Pickled Peppers.\n",
      "                     Peck                    \n"
     ]
    }
   ],
   "source": [
    "# Write a python program to find below output (implements rjust and ljust) using loop:-\n",
    "\n",
    "# Input:- 'Peter Piper Picked A Peck Of Pickled Peppers.', sub_str = 'Peck', \n",
    "# Output:- '*********************Peck********************'\n",
    "my_str = 'Peter Piper Picked A Peck Of Pickled Peppers.'\n",
    "sub_str = 'Peck'\n",
    "lst=my_str.split(\" \")\n",
    "length=0\n",
    "for i in lst:\n",
    "    if sub_str in i:\n",
    "        break\n",
    "    else:\n",
    "        length=length+len(i)+1       \n",
    "sub_str=sub_str.ljust(len(my_str)-length)\n",
    "sub_str=sub_str.rjust(len(sub_str)+length)\n",
    "print(my_str)\n",
    "print(sub_str)"
   ]
  },
  {
   "cell_type": "code",
   "execution_count": 77,
   "metadata": {
    "id": "DsOrb07Od0lR"
   },
   "outputs": [
    {
     "name": "stdout",
     "output_type": "stream",
     "text": [
      "['This', 'is', 'Python class']\n"
     ]
    }
   ],
   "source": [
    "# Write a python program to find below output using loop:-\n",
    "\n",
    "# Input:- 'This is Python class', sep = ' is', \n",
    "# Output:- ['This', 'is', 'Python class']\n",
    "\n",
    "my_str='This is Python class'\n",
    "sep = 'is'\n",
    "lst=my_str.split()\n",
    "lst1=[]\n",
    "str1=\"\"\n",
    "for i in lst:\n",
    "    if i==sep:\n",
    "        lst1.append(str1.strip())\n",
    "        lst1.append(sep)\n",
    "        str1=\"\"\n",
    "        \n",
    "    else:\n",
    "        str1=str1+i+\" \"\n",
    "                    \n",
    "lst1.append(str1.strip())\n",
    "print(lst1)"
   ]
  },
  {
   "cell_type": "code",
   "execution_count": null,
   "metadata": {
    "id": "jRnBVufmd2Ay"
   },
   "outputs": [],
   "source": [
    "\n",
    "\n"
   ]
  }
 ],
 "metadata": {
  "colab": {
   "name": "Conditional_and_loop_assignment.ipynb",
   "provenance": []
  },
  "kernelspec": {
   "display_name": "Python 3",
   "language": "python",
   "name": "python3"
  },
  "language_info": {
   "codemirror_mode": {
    "name": "ipython",
    "version": 3
   },
   "file_extension": ".py",
   "mimetype": "text/x-python",
   "name": "python",
   "nbconvert_exporter": "python",
   "pygments_lexer": "ipython3",
   "version": "3.8.8"
  }
 },
 "nbformat": 4,
 "nbformat_minor": 1
}
