{
 "cells": [
  {
   "cell_type": "markdown",
   "metadata": {
    "id": "wNRNTbrsc53d"
   },
   "source": [
    "# If - elif - else statement"
   ]
  },
  {
   "cell_type": "markdown",
   "metadata": {
    "id": "MiPfTnBycxNa"
   },
   "source": [
    "W. A P. which takes one number from 0 to 9 from the user and prints it in the word. And if the word is not from 0 to 9 then\n",
    "it should print that number is outside of the range and program should exit.\n",
    "For exapmple:- \n",
    "input = 1\n",
    "output = one\n"
   ]
  },
  {
   "cell_type": "code",
   "execution_count": 10,
   "metadata": {},
   "outputs": [
    {
     "name": "stdout",
     "output_type": "stream",
     "text": [
      "Enter the no.5\n",
      "five\n"
     ]
    }
   ],
   "source": [
    "n2w = {0:'zero',1:'one',2:'two',3:'three',4:'four',5:'five',6:'six',7:'seven',8:'eight',9:'nine'}\n",
    "n = int(input('Enter the no.'))\n",
    "if n in n2w:\n",
    "    print(n2w.get(n))\n",
    "else:\n",
    "    print('number is outside of the range')\n",
    "    "
   ]
  },
  {
   "cell_type": "markdown",
   "metadata": {
    "id": "vEMNOv9zdA39"
   },
   "source": [
    "W. A P. to implement calculator but the operation to be done and two numbers will be taken as input from user:-\n",
    "Operation console should show below:-\n",
    "    Please select any one operation from below:-\n",
    "        * To add enter 1\n",
    "        * to subtract enter 2\n",
    "        * To multiply enter 3\n",
    "        * To divide enter 4\n",
    "        * To divide and find quotient enter 5\n",
    "        * To divide and find remainder enter 6\n",
    "        * To divide and find num1 to the power of num2 enter 7\n",
    "        * To Come out of the program enter 8\n",
    "\n",
    "\n",
    "\n"
   ]
  },
  {
   "cell_type": "code",
   "execution_count": 16,
   "metadata": {},
   "outputs": [
    {
     "name": "stdout",
     "output_type": "stream",
     "text": [
      "Enter 1st no.3\n",
      "Enter 2nd no.4\n",
      "Please select any one operation from below:-\n",
      "        * To add enter 1\n",
      "        * to subtract enter 2\n",
      "        * To multiply enter 3\n",
      "        * To divide enter 4\n",
      "        * To divide and find quotient enter 5\n",
      "        * To divide and find remainder enter 6\n",
      "        * To divide and find num1 to the power of num2 enter 7\n",
      "        * To Come out of the program enter 8\n",
      "Enter your choice: 9\n"
     ]
    }
   ],
   "source": [
    "n1 = eval(input('Enter 1st no.'))\n",
    "n2 = eval(input('Enter 2nd no.'))\n",
    "print('''Please select any one operation from below:-\n",
    "        * To add enter 1\n",
    "        * to subtract enter 2\n",
    "        * To multiply enter 3\n",
    "        * To divide enter 4\n",
    "        * To divide and find quotient enter 5\n",
    "        * To divide and find remainder enter 6\n",
    "        * To divide and find num1 to the power of num2 enter 7\n",
    "        * To Come out of the program enter 8''')\n",
    "while True:\n",
    "    n3 = int(input('Enter your choice: '))\n",
    "    if n3 == 1:\n",
    "        print(n1+n2)\n",
    "    elif n3 == 2:\n",
    "        print(n1-n2)\n",
    "    elif n3 == 3:\n",
    "        print(n1*n2)\n",
    "    elif n3 == 4:\n",
    "        print(n1/n2)\n",
    "    elif n3 == 5:\n",
    "        print(n1//n2)\n",
    "    elif n3 == 6:\n",
    "        print(n1%n2)\n",
    "    elif n3 == 7:\n",
    "        print(n1**n2)\n",
    "    else:\n",
    "        break\n",
    "    \n",
    "\n",
    "    \n",
    "    \n"
   ]
  },
  {
   "cell_type": "markdown",
   "metadata": {
    "id": "1e2gwYLqdC1s"
   },
   "source": [
    "W A P to check whether a year entered by user is an leap year or not?\n",
    "Check with below input:-\n",
    "    leap year:- 2012, 1968, 2004, 1200, 1600,2400\n",
    "    Non-lear year:- 1971, 2006, 1700,1800,1900\n",
    "    \n",
    "    \n"
   ]
  },
  {
   "cell_type": "code",
   "execution_count": 26,
   "metadata": {},
   "outputs": [
    {
     "name": "stdout",
     "output_type": "stream",
     "text": [
      "Enter the year: 2004\n",
      "Its a leap year\n"
     ]
    }
   ],
   "source": [
    "n = int(input('Enter the year: '))\n",
    "if n%4==0 or n%400==0 or n%100==0:\n",
    "    print('Its a leap year')\n",
    "else:\n",
    "    print('Its not')"
   ]
  },
  {
   "cell_type": "markdown",
   "metadata": {
    "id": "_tpXv1EtdEre"
   },
   "source": [
    "W A P which takes one number from the user and checks whether it is an even or odd number?, If it even then prints number is \n",
    "even number else prints that number is odd number.\n",
    "\n"
   ]
  },
  {
   "cell_type": "code",
   "execution_count": 29,
   "metadata": {},
   "outputs": [
    {
     "name": "stdout",
     "output_type": "stream",
     "text": [
      "Enter the year: 6\n",
      "The no. is even\n"
     ]
    }
   ],
   "source": [
    "n = eval(input('Enter the year: '))\n",
    "if n%2==0:\n",
    "    print('The no. is even')\n",
    "else:\n",
    "    print('The no. is odd')\n"
   ]
  },
  {
   "cell_type": "markdown",
   "metadata": {
    "id": "Q1HumymCdG6i"
   },
   "source": [
    "W A P which takes two numbers from the user and prints below output:-\n",
    "    1. num1 is greater than num2 if num1 is greater than num2\n",
    "    2. num1 is smaller than num2 if num1 is smaller than num2\n",
    "    3. num1 is equal to num2 if num1 and num2 are equal\n",
    "\n",
    "Note:- 1. Do this problem using if - else \n",
    "      2. Do this using ternary operator\n",
    "\n"
   ]
  },
  {
   "cell_type": "code",
   "execution_count": 81,
   "metadata": {},
   "outputs": [
    {
     "name": "stdout",
     "output_type": "stream",
     "text": [
      "Enter 1st no.2\n",
      "Enter 2nd no.2\n",
      "num1 is equal to num2\n",
      "Enter 1st no.2\n",
      "Enter 2nd no.2\n",
      "both are equal\n"
     ]
    }
   ],
   "source": [
    "#using Conditional Statement\n",
    "n1 = eval(input('Enter 1st no.'))\n",
    "n2 = eval(input('Enter 2nd no.'))\n",
    "\n",
    "if n1>n2:\n",
    "    print('num1 is greater than num2')\n",
    "elif n1<n2:\n",
    "    print('num1 is smaller than num2')\n",
    "else:\n",
    "    print('num1 is equal to num2')\n",
    "\n",
    "#using Ternary Operator\n",
    "\n",
    "n1 = eval(input('Enter 1st no.'))\n",
    "n2 = eval(input('Enter 2nd no.'))\n",
    "print('num1 is greater than num2') if n1>n2 else print('num1 is smaller than num2') if n1<n2 else print('both are equal')\n"
   ]
  },
  {
   "cell_type": "markdown",
   "metadata": {
    "id": "LR6TVB-DdOPf"
   },
   "source": [
    "W A P which takes three numbers from the user and prints below output:-\n",
    "    1. num1 is greater than num2 and num3 if num1 is greater than num2 and num3\n",
    "    2. num2 is greater than num1 and num3 if num2 is greater than num1 and num3\n",
    "    3. num3 is greater than num1 and num2 if num3 is greater than num1 and num2\n",
    "\n",
    "Note:- 1. Do this problem using if - elif - else \n",
    "      2. Do this using ternary operator\n",
    "\n",
    "\n"
   ]
  },
  {
   "cell_type": "code",
   "execution_count": 100,
   "metadata": {},
   "outputs": [
    {
     "name": "stdout",
     "output_type": "stream",
     "text": [
      "using Conditional Statement\n",
      "Enter 1st no.1\n",
      "Enter 2nd no.2\n",
      "Enter 3rd no.3\n",
      "num3 is greater than num2 and num\n",
      "\n",
      "using Ternary Operator\n",
      "Enter 1st no.1\n",
      "Enter 2nd no.23\n",
      "Enter 3rd no.33\n",
      "num3 is greater than num2 and num1\n"
     ]
    }
   ],
   "source": [
    "print('using Conditional Statement')\n",
    "n1 = eval(input('Enter 1st no.'))\n",
    "n2 = eval(input('Enter 2nd no.'))\n",
    "n3 = eval(input('Enter 3rd no.'))\n",
    "if n1>(n2 and n3) and n1!=n2 and n1!=n3:\n",
    "    print('num1 is greater than num2 and num3')\n",
    "elif n2>(n1 and n3)and n2!=n1 and n2!=n3:\n",
    "    print('num2 is greater than num1 and num3')\n",
    "elif n3>(n1 and n2)and n3!=n1 and n3!=n2:\n",
    "    print('num3 is greater than num2 and num')\n",
    "elif n1==n2==n3:\n",
    "    print('Every digit is equal')\n",
    "else:\n",
    "    print('Invalid Inputs')\n",
    "    \n",
    "print()\n",
    "\n",
    "print('using Ternary Operator')\n",
    "\n",
    "n1 = eval(input('Enter 1st no.'))\n",
    "n2 = eval(input('Enter 2nd no.'))\n",
    "n3  = eval(input('Enter 3rd no.'))\n",
    "print('num1 is greater than num2') if n1>(n2 and n3) and n1!=n2 and n1!=n3 else print('num1 is smaller than num2') if n2>(n1 and n3)and n2!=n1 and n2!=n3 else print('both are equal') if n1==n2==n3 else print('num3 is greater than num2 and num1') if n3>(n1 and n2)and n3!=n1 and n3!=n2 else print('invalid input') "
   ]
  },
  {
   "cell_type": "markdown",
   "metadata": {
    "id": "IoOLQMUGdSox"
   },
   "source": [
    "# Loops - for loop, while loop"
   ]
  },
  {
   "cell_type": "markdown",
   "metadata": {
    "id": "9K23Uld8dQfA"
   },
   "source": [
    "# Write a Python program to find the length of the my_str using loop:-\n",
    "\n",
    "Input:- 'Write a Python program to find the length of the my_str'\n",
    "Output:- 55\n"
   ]
  },
  {
   "cell_type": "code",
   "execution_count": 104,
   "metadata": {},
   "outputs": [
    {
     "name": "stdout",
     "output_type": "stream",
     "text": [
      "Enter your string: Write a Python program to find the length of the my_str\n",
      "55\n"
     ]
    }
   ],
   "source": [
    "mystr = input('Enter your string: ')\n",
    "print(len(mystr))"
   ]
  },
  {
   "cell_type": "markdown",
   "metadata": {
    "id": "bp6AcqTsdYxy"
   },
   "source": [
    "Write a Python program to find the total number of times letter 'p' is appeared in the below string using loop:-\n",
    "    \n",
    "Input:- 'peter piper picked a peck of pickled peppers.\\n'\n",
    "Output:- 9\n",
    "\n"
   ]
  },
  {
   "cell_type": "code",
   "execution_count": 115,
   "metadata": {},
   "outputs": [
    {
     "name": "stdout",
     "output_type": "stream",
     "text": [
      "Enter your string: hello my name is mitesh\n",
      "Enter element: h\n",
      "2\n"
     ]
    }
   ],
   "source": [
    "mystr = input('Enter your string: ')\n",
    "n = input('Enter element: ')\n",
    "count = 0\n",
    "for i in mystr:\n",
    "    if n == i:\n",
    "        count +=1\n",
    "print(count)\n",
    "         "
   ]
  },
  {
   "cell_type": "markdown",
   "metadata": {
    "id": "xvxSBhTJdav1"
   },
   "source": [
    "Write a Python Program, to print all the indexes of all occurences of letter 'p' appeared in the string using loop:-\n",
    "    \n",
    "Input:- 'peter piper picked a peck of pickled peppers.'\n",
    "Output:- \n",
    "0\n",
    "6\n",
    "8\n",
    "12\n",
    "21\n",
    "29\n",
    "37\n",
    "39\n",
    "40"
   ]
  },
  {
   "cell_type": "code",
   "execution_count": 177,
   "metadata": {},
   "outputs": [
    {
     "name": "stdout",
     "output_type": "stream",
     "text": [
      "Enter your string: peter piper picked a peck of pickled peppers.\n",
      "Enter element: p\n",
      "0\n",
      "6\n",
      "8\n",
      "12\n",
      "21\n",
      "29\n",
      "37\n",
      "39\n",
      "40\n"
     ]
    }
   ],
   "source": [
    "mystr = input('Enter your string: ')\n",
    "n = input('Enter element: ')\n",
    "output = [j for j, char in enumerate(mystr) if char == n]\n",
    "for i in output:\n",
    "    print(i,end=\"\\n\")"
   ]
  },
  {
   "cell_type": "markdown",
   "metadata": {
    "id": "79L_feMadbmw"
   },
   "source": [
    "Write a python program to find below output using loop:-\n",
    "\n",
    "Input:- 'peter piper picked a peck of pickled peppers.'\n",
    "Output:- ['peter', 'piper', 'picked', 'a', 'peck', 'of', 'pickled', 'peppers']"
   ]
  },
  {
   "cell_type": "code",
   "execution_count": 209,
   "metadata": {},
   "outputs": [
    {
     "name": "stdout",
     "output_type": "stream",
     "text": [
      "Enter the string: peter piper picked a peck of pickled peppers.\n"
     ]
    },
    {
     "data": {
      "text/plain": [
       "['peter', 'piper', 'picked', 'a', 'peck', 'of', 'pickled', 'peppers.']"
      ]
     },
     "execution_count": 209,
     "metadata": {},
     "output_type": "execute_result"
    }
   ],
   "source": [
    "mystr= input('Enter the string: ')\n",
    "newst = mystr.split(\" \")\n",
    "newst"
   ]
  },
  {
   "cell_type": "markdown",
   "metadata": {
    "id": "vzs5AJ53deVS"
   },
   "source": [
    "Write a python program to find below output using loop:-\n",
    "\n",
    "Input:- 'peter piper picked a peck of pickled peppers.'\n",
    "Output:- 'peppers pickled of peck a picked piper peter'\n",
    "\n"
   ]
  },
  {
   "cell_type": "code",
   "execution_count": 214,
   "metadata": {},
   "outputs": [
    {
     "name": "stdout",
     "output_type": "stream",
     "text": [
      "Enter the string: peter piper picked a peck of pickled peppers.\n"
     ]
    },
    {
     "data": {
      "text/plain": [
       "'peppers. pickled of peck a picked piper peter'"
      ]
     },
     "execution_count": 214,
     "metadata": {},
     "output_type": "execute_result"
    }
   ],
   "source": [
    "mystr = input('Enter the string: ')\n",
    "mystr = mystr.split(\" \")\n",
    "mystr = mystr[::-1]\n",
    "mystr = \" \".join(mystr)\n",
    "mystr"
   ]
  },
  {
   "cell_type": "markdown",
   "metadata": {
    "id": "i-HP7DrCdhwS"
   },
   "source": [
    "Write a python program to find below output using loop:-\n",
    "\n",
    "Input:- 'peter piper picked a peck of pickled peppers.'\n",
    "Output:- '.sreppep delkcip fo kcep a dekcip repip retep'\n",
    "\n",
    "\n",
    "\n"
   ]
  },
  {
   "cell_type": "code",
   "execution_count": 215,
   "metadata": {},
   "outputs": [
    {
     "name": "stdout",
     "output_type": "stream",
     "text": [
      "Enter the string: mystr = input('Enter the string: ') mystr = mystr[::-1] mystr\n"
     ]
    },
    {
     "data": {
      "text/plain": [
       "\"rtsym ]1-::[rtsym = rtsym )' :gnirts eht retnE'(tupni = rtsym\""
      ]
     },
     "execution_count": 215,
     "metadata": {},
     "output_type": "execute_result"
    }
   ],
   "source": [
    "mystr = input('Enter the string: ')\n",
    "mystr = mystr[::-1]\n",
    "mystr"
   ]
  },
  {
   "cell_type": "code",
   "execution_count": null,
   "metadata": {
    "id": "3rt6p0ytdkq0"
   },
   "outputs": [],
   "source": [
    "Write a python program to find below output using loop:-\n",
    "\n",
    "Input:- 'peter piper picked a peck of pickled peppers.'\n",
    "Output:- 'retep repip dekcip a kcep fo delkcip sreppep'"
   ]
  },
  {
   "cell_type": "code",
   "execution_count": 227,
   "metadata": {},
   "outputs": [
    {
     "name": "stdout",
     "output_type": "stream",
     "text": [
      "Enter the string: peter piper picked a peck of pickled peppers.\n"
     ]
    },
    {
     "data": {
      "text/plain": [
       "'retep repip dekcip a kcep fo delkcip .sreppep'"
      ]
     },
     "execution_count": 227,
     "metadata": {},
     "output_type": "execute_result"
    }
   ],
   "source": [
    "mystr = input('Enter the string: ')\n",
    "mystr = mystr[::-1]\n",
    "mystr = mystr.split(\" \")\n",
    "mystr = mystr[::-1]\n",
    "mystr = \" \".join(mystr)\n",
    "mystr"
   ]
  },
  {
   "cell_type": "markdown",
   "metadata": {
    "id": "HdlAWgT2dnKO"
   },
   "source": [
    "Write a python program to find below output using loop:-\n",
    "\n",
    "Input:- 'peter piper picked a peck of pickled peppers.'\n",
    "Output:- 'Peter Piper Picked A Peck Of Pickled Peppers'"
   ]
  },
  {
   "cell_type": "code",
   "execution_count": 229,
   "metadata": {},
   "outputs": [
    {
     "name": "stdout",
     "output_type": "stream",
     "text": [
      "Enter the string: peter piper picked a peck of pickled peppers\n"
     ]
    },
    {
     "data": {
      "text/plain": [
       "'Peter Piper Picked A Peck Of Pickled Peppers'"
      ]
     },
     "execution_count": 229,
     "metadata": {},
     "output_type": "execute_result"
    }
   ],
   "source": [
    "mystr = input('Enter the string: ')\n",
    "mystr = mystr.title()\n",
    "mystr"
   ]
  },
  {
   "cell_type": "markdown",
   "metadata": {
    "id": "OthUuacodrNl"
   },
   "source": [
    "Write a python program to find below output using loop:-\n",
    "\n",
    "Input:- 'Peter Piper Picked A Peck Of Pickled Peppers.'\n",
    "Output:- 'Peter piper picked a peck of pickled peppers'"
   ]
  },
  {
   "cell_type": "code",
   "execution_count": 233,
   "metadata": {},
   "outputs": [
    {
     "name": "stdout",
     "output_type": "stream",
     "text": [
      "Enter the string: Peter Piper Picked A Peck Of Pickled Peppers.\n"
     ]
    },
    {
     "data": {
      "text/plain": [
       "'Peter piper picked a peck of pickled peppers.'"
      ]
     },
     "execution_count": 233,
     "metadata": {},
     "output_type": "execute_result"
    }
   ],
   "source": [
    "mystr = input('Enter the string: ')\n",
    "mystr = mystr.capitalize()\n",
    "mystr"
   ]
  },
  {
   "cell_type": "markdown",
   "metadata": {
    "colab": {
     "base_uri": "https://localhost:8080/",
     "height": 34
    },
    "id": "scmDJE-ldsI9",
    "outputId": "4b1d1979-9f4a-4bc6-c505-b88b1bbd4d5d"
   },
   "source": [
    "Write a python program to implement index method using loop. If sub_str is found in my_str then it will print the index\n",
    "of first occurrence of first character of matching string in my_str:-\n",
    "\n",
    "Input:- my_str = 'Peter Piper Picked A Peck Of Pickled Peppers.', sub_str = 'Pickl'\n",
    "Output:- 29\n",
    "\n"
   ]
  },
  {
   "cell_type": "code",
   "execution_count": 11,
   "metadata": {},
   "outputs": [
    {
     "name": "stdout",
     "output_type": "stream",
     "text": [
      "Enter the string: Peter Piper Picked A Peck Of Pickled Peppers.\n",
      "Enter the Substring: Pickl\n",
      "29\n"
     ]
    }
   ],
   "source": [
    "mystr = input('Enter the string: ')\n",
    "sub_str = input('Enter the Substring: ')\n",
    "if sub_str in mystr:\n",
    "        print(mystr.find(sub_str))\n",
    "        "
   ]
  },
  {
   "cell_type": "markdown",
   "metadata": {
    "id": "Kq_fwdb_dvYE"
   },
   "source": [
    "Write a python program to implement replace method using loop. If sub_str is found in my_str then it will replace the first \n",
    "occurrence of sub_str with new_str else it will will print sub_str not found:-\n",
    "\n",
    "Input:- my_str = 'Peter Piper Picked A Peck Of Pickled Peppers.', sub_str = 'Peck', new_str = 'Pack'\n",
    "Output:- 'Peter Piper Picked A Pack Of Pickled Peppers.'\n",
    "\n",
    "\n"
   ]
  },
  {
   "cell_type": "code",
   "execution_count": 13,
   "metadata": {},
   "outputs": [
    {
     "name": "stdout",
     "output_type": "stream",
     "text": [
      "Enter the string: Peter Piper Picked A Peck Of Pickled Peppers\n",
      "Enter the Substring: Peck\n",
      "Enter the Newstring: Pack\n",
      "Peter Piper Picked A Pack Of Pickled Peppers\n"
     ]
    }
   ],
   "source": [
    "mystr = input('Enter the string: ')\n",
    "sub_str = input('Enter the Substring: ')\n",
    "new_str = input('Enter the Newstring: ')\n",
    "if sub_str in mystr:\n",
    "    mystr = mystr.replace(sub_str,new_str)\n",
    "    print(mystr)\n",
    "else:\n",
    "    print('sub_str not found')\n"
   ]
  },
  {
   "cell_type": "markdown",
   "metadata": {
    "id": "4Qes5D0cdyd1"
   },
   "source": [
    "Write a python program to find below output (implements rjust and ljust) using loop:-\n",
    "\n",
    "Input:- 'Peter Piper Picked A Peck Of Pickled Peppers.', sub_str = 'Peck', \n",
    "Output:- '*********************Peck********************'\n",
    "\n",
    "\n",
    "\n"
   ]
  },
  {
   "cell_type": "code",
   "execution_count": 50,
   "metadata": {},
   "outputs": [
    {
     "name": "stdout",
     "output_type": "stream",
     "text": [
      "Enter the string: Peter Piper Picked A Peck Of Pickled Peppers.\n",
      "Enter the Substring: Peck\n"
     ]
    },
    {
     "data": {
      "text/plain": [
       "'********************Peck*******************'"
      ]
     },
     "execution_count": 50,
     "metadata": {},
     "output_type": "execute_result"
    }
   ],
   "source": [
    "mystr = input('Enter the string: ')\n",
    "sub_str = input('Enter the Substring: ')\n",
    "for i in range(mystr.find(sub_str)):\n",
    "    x = \"*\" * i\n",
    "ln =len(mystr)-( mystr.find(sub_str) + len(sub_str))\n",
    "for j in range (ln):\n",
    "    y = \"*\" * j\n",
    "finalstr = x+sub_str+y\n",
    "finalstr\n",
    "# f = '*********************Peck********************'\n",
    "# g = '********************Peck*********************'"
   ]
  },
  {
   "cell_type": "code",
   "execution_count": null,
   "metadata": {
    "id": "DsOrb07Od0lR"
   },
   "outputs": [],
   "source": [
    "Write a python program to find below output using loop:-\n",
    "\n",
    "Input:- 'This is Python class', sep = ' is', \n",
    "Output:- ['This', 'is', 'Python class']\n",
    "\n"
   ]
  },
  {
   "cell_type": "code",
   "execution_count": 6,
   "metadata": {
    "id": "jRnBVufmd2Ay"
   },
   "outputs": [
    {
     "name": "stdout",
     "output_type": "stream",
     "text": [
      "Enter the string: This is Python class\n"
     ]
    },
    {
     "data": {
      "text/plain": [
       "['This', 'is', 'Python', 'class']"
      ]
     },
     "execution_count": 6,
     "metadata": {},
     "output_type": "execute_result"
    }
   ],
   "source": [
    "mystr = input('Enter the string: ')\n",
    "output = mystr.split()\n",
    "output"
   ]
  },
  {
   "cell_type": "code",
   "execution_count": null,
   "metadata": {},
   "outputs": [],
   "source": []
  }
 ],
 "metadata": {
  "colab": {
   "name": "Conditional_and_loop_assignment.ipynb",
   "provenance": []
  },
  "kernelspec": {
   "display_name": "Python 3",
   "language": "python",
   "name": "python3"
  },
  "language_info": {
   "codemirror_mode": {
    "name": "ipython",
    "version": 3
   },
   "file_extension": ".py",
   "mimetype": "text/x-python",
   "name": "python",
   "nbconvert_exporter": "python",
   "pygments_lexer": "ipython3",
   "version": "3.8.5"
  }
 },
 "nbformat": 4,
 "nbformat_minor": 1
}
