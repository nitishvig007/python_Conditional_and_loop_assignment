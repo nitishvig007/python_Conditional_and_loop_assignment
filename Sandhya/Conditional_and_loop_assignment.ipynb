{
 "cells": [
  {
   "cell_type": "markdown",
   "metadata": {
    "id": "wNRNTbrsc53d"
   },
   "source": [
    "# If - elif - else statement"
   ]
  },
  {
   "cell_type": "code",
   "execution_count": 12,
   "metadata": {
    "id": "MiPfTnBycxNa"
   },
   "outputs": [
    {
     "name": "stdout",
     "output_type": "stream",
     "text": [
      "enter the number between(0-9):10\n",
      "Number 10 not in range\n"
     ]
    }
   ],
   "source": [
    "#W. A P. which takes one number from 0 to 9 from the user and prints it in the word. And if the word is not from 0 to 9 then\n",
    "#it should print that number is outside of the range and program should exit.\n",
    "#For exapmple:- \n",
    "#input = 1\n",
    "#output = one\n",
    "\n",
    "user_input = str(input(\"enter the number between(0-9):\"))\n",
    "\n",
    "if user_input =='0':\n",
    "    print('zero')\n",
    "elif user_input =='1':\n",
    "    print('One')\n",
    "elif user_input =='2':\n",
    "    print('Two')\n",
    "elif user_input =='3':\n",
    "    print('Three')\n",
    "elif user_input =='4':\n",
    "    print('Four')\n",
    "elif user_input =='5':\n",
    "    print('Five')\n",
    "elif user_input =='6':\n",
    "    print('Six')\n",
    "elif user_input =='7':\n",
    "    print('Seven')\n",
    "elif user_input =='8':\n",
    "    print('Eight')\n",
    "elif user_input =='9':\n",
    "    print('Nine')\n",
    "else:\n",
    "    print(\"Number {} not in range\".format(user_input))\n",
    "    exit()\n",
    "    "
   ]
  },
  {
   "cell_type": "code",
   "execution_count": 10,
   "metadata": {
    "id": "vEMNOv9zdA39"
   },
   "outputs": [
    {
     "name": "stdout",
     "output_type": "stream",
     "text": [
      "Enter the operation to be done:!\n",
      "Enter two numbers:1 2\n"
     ]
    }
   ],
   "source": [
    "'''W. A P. to implement calculator but the operation to be done and two numbers will be taken as input from user:-\n",
    "Operation console should show below:-\n",
    "    Please select any one operation from below:-\n",
    "        * To add enter 1\n",
    "        * to subtract enter 2\n",
    "        * To multiply enter 3\n",
    "        * To divide enter 4\n",
    "        * To divide and find quotient enter 5\n",
    "        * To divide and find remainder enter 6\n",
    "        * To divide and find num1 to the power of num2 enter 7\n",
    "        * To Come out of the program enter 8'''\n",
    "        \n",
    "user_oper = input(\"Enter the operation to be done:\")\n",
    "\n",
    "a,b = input(\"Enter two numbers:\").split()\n",
    "\n",
    "if user_oper == '+':\n",
    "    output = int(a)+int(b) \n",
    "    print(\"Add:\",output)\n",
    "elif user_oper == '-':\n",
    "    output = int(a)-int(b) \n",
    "    print(\"subtract:\",output)\n",
    "elif user_oper == '*':\n",
    "    output = int(a)*int(b) \n",
    "    print(\"Multiply:\",output)\n",
    "elif user_oper == '/':\n",
    "    output = int(a)/int(b) \n",
    "    print(\"Divide:\",output)\n",
    "elif user_oper == '//':\n",
    "    output = int(a)//int(b) \n",
    "    print(\"Quotient:\",output)\n",
    "elif user_oper == '%':\n",
    "    output = int(a)%int(b) \n",
    "    print(\"Remainder:\",output)\n",
    "elif user_oper == '**':\n",
    "    output = int(a)**int(b) \n",
    "    print(\"Power:\",output)\n",
    "else:\n",
    "    exit()\n",
    "\n",
    "\n",
    "\n"
   ]
  },
  {
   "cell_type": "code",
   "execution_count": 2,
   "metadata": {
    "id": "1e2gwYLqdC1s"
   },
   "outputs": [
    {
     "name": "stdout",
     "output_type": "stream",
     "text": [
      "Enter the year to check:1971\n",
      "Non-leap Year\n"
     ]
    }
   ],
   "source": [
    "'''W A P to check whether a year entered by user is an leap year or not?\n",
    "Check with below input:-\n",
    "    leap year:- 2012, 1968, 2004, 1200, 1600,2400\n",
    "    Non-lear year:- 1971, 2006, 1700,1800,1900'''\n",
    "\n",
    "inp_user = int(input(\"Enter the year to check:\"))\n",
    "\n",
    "if (inp_user%4 ==0) and (inp_user %400==0) and (inp_user%100==0):\n",
    "    print(\"Leap Year\")\n",
    "else:\n",
    "    print(\"Non-leap Year\")\n",
    "    \n"
   ]
  },
  {
   "cell_type": "code",
   "execution_count": 4,
   "metadata": {
    "id": "_tpXv1EtdEre"
   },
   "outputs": [
    {
     "name": "stdout",
     "output_type": "stream",
     "text": [
      "Enter the number to check even/odd:10\n",
      "10 is even number\n"
     ]
    }
   ],
   "source": [
    "'''W A P which takes one number from the user and checks whether it is an even or odd number?, If it even then prints number is \n",
    "even number else prints that number is odd number.'''\n",
    "\n",
    "\n",
    "user_inp = int(input(\"Enter the number to check even/odd:\"))\n",
    "\n",
    "if (user_inp %2 ==0):\n",
    "    print(\"{} is even number\".format(user_inp))\n",
    "else:\n",
    "    print(\"{} is odd number\".format(user_inp))\n",
    "\n"
   ]
  },
  {
   "cell_type": "code",
   "execution_count": 14,
   "metadata": {
    "id": "Q1HumymCdG6i"
   },
   "outputs": [
    {
     "name": "stdout",
     "output_type": "stream",
     "text": [
      "Enter the two number:2 3\n",
      "2 is smaller than 3\n"
     ]
    },
    {
     "data": {
      "text/plain": [
       "'num1<num2'"
      ]
     },
     "execution_count": 14,
     "metadata": {},
     "output_type": "execute_result"
    }
   ],
   "source": [
    "'''W A P which takes two numbers from the user and prints below output:-\n",
    "    1. num1 is greater than num2 if num1 is greater than num2\n",
    "    2. num1 is smaller than num2 if num1 is smaller than num2\n",
    "    3. num1 is equal to num2 if num1 and num2 are equal\n",
    "\n",
    "Note:- 1. Do this problem using if - else \n",
    "      2. Do this using ternary operator'''\n",
    "        \n",
    "num1,num2= input(\"Enter the two number:\").split()\n",
    "\n",
    "if num1 > num2:\n",
    "    print(\"{} is greater than {}\".format(num1,num2))\n",
    "elif num1<num2:\n",
    "    print(\"{} is smaller than {}\".format(num1,num2))\n",
    "else:\n",
    "    print(\"{} is equal to {}\".format(num1,num2))\n",
    "    \n",
    "#Ternary operator\n",
    "\n",
    "\"num1 > num2\" if num1 > num2 else \"num1<num2\" if num1<num2 else \"num1 is eqal to num2\"\n",
    "            \n"
   ]
  },
  {
   "cell_type": "code",
   "execution_count": 20,
   "metadata": {
    "id": "LR6TVB-DdOPf"
   },
   "outputs": [
    {
     "name": "stdout",
     "output_type": "stream",
     "text": [
      "Enter three numbers:1 2 3\n",
      "num3 is greater than num1 and num2\n"
     ]
    },
    {
     "data": {
      "text/plain": [
       "'num3 is greater than num1 and num2'"
      ]
     },
     "execution_count": 20,
     "metadata": {},
     "output_type": "execute_result"
    }
   ],
   "source": [
    "'''W A P which takes three numbers from the user and prints below output:-\n",
    "    1. num1 is greater than num2 and num3 if num1 is greater than num2 and num3\n",
    "    2. num2 is greater than num1 and num3 if num2 is greater than num1 and num3\n",
    "    3. num3 is greater than num1 and num2 if num3 is greater than num1 and num2\n",
    "\n",
    "Note:- 1. Do this problem using if - elif - else \n",
    "      2. Do this using ternary operator\n",
    "\n",
    "a = a if a>b else b'''\n",
    "\n",
    "\n",
    "num1,num2,num3 = input(\"Enter three numbers:\").split()\n",
    "\n",
    "if (num1 > num2) and (num1 > num3):\n",
    "    print(\"num1 is greater than num2 and num3\")\n",
    "    \n",
    "elif(num2 > num1) and (num2 > num3):\n",
    "    print(\"num2 is greater than num1 and num2\")\n",
    "else:\n",
    "    print(\"num3 is greater than num1 and num2\")\n",
    "    \n",
    "\"num1 is greater than num2 and num3\" if (num1 > num2) and (num1 > num3) else \"num2 is greater than num1 and num2\" if(num2 > num1) and (num2 > num3) else \"num3 is greater than num1 and num2\" \n",
    "\n"
   ]
  },
  {
   "cell_type": "markdown",
   "metadata": {
    "id": "IoOLQMUGdSox"
   },
   "source": [
    "# Loops - for loop, while loop"
   ]
  },
  {
   "cell_type": "code",
   "execution_count": 26,
   "metadata": {
    "id": "9K23Uld8dQfA"
   },
   "outputs": [
    {
     "name": "stdout",
     "output_type": "stream",
     "text": [
      "55\n"
     ]
    }
   ],
   "source": [
    "'''Write a Python program to find the length of the my_str using loop:-\n",
    "\n",
    "Input:- 'Write a Python program to find the length of the my_str'\n",
    "#Output:- 55'''\n",
    "Input= 'Write a Python program to find the length of the my_str'\n",
    " \n",
    "count =0\n",
    "for i in Input:\n",
    "   if i:\n",
    "    count+=1\n",
    "print(count)\n"
   ]
  },
  {
   "cell_type": "code",
   "execution_count": 28,
   "metadata": {
    "id": "bp6AcqTsdYxy"
   },
   "outputs": [
    {
     "name": "stdout",
     "output_type": "stream",
     "text": [
      "9\n"
     ]
    }
   ],
   "source": [
    "#Write a Python program to find the total number of times letter 'p' is appeared in the below string using loop:-\n",
    "    \n",
    "Input= 'peter piper picked a peck of pickled peppers.\\n'\n",
    "Output:- 9\n",
    "    \n",
    "count=0\n",
    "for i in range(0,len(Input)):\n",
    "    if Input[i]=='p':\n",
    "        count+=1\n",
    "print(count)\n",
    "        \n",
    "    \n",
    "    \n",
    "\n",
    "\n"
   ]
  },
  {
   "cell_type": "code",
   "execution_count": 29,
   "metadata": {
    "id": "xvxSBhTJdav1"
   },
   "outputs": [
    {
     "name": "stdout",
     "output_type": "stream",
     "text": [
      "0\n",
      "6\n",
      "8\n",
      "12\n",
      "21\n",
      "29\n",
      "37\n",
      "39\n",
      "40\n"
     ]
    }
   ],
   "source": [
    "#Write a Python Program, to print all the indexes of all occurences of letter 'p' appeared in the string using loop:-\n",
    "    \n",
    "Input= 'peter piper picked a peck of pickled peppers.'\n",
    "'''Output:- \n",
    "0\n",
    "6\n",
    "8\n",
    "12\n",
    "21\n",
    "29\n",
    "37\n",
    "39\n",
    "40'''\n",
    "\n",
    "for i in range(0,len(Input)):\n",
    "    if Input[i]=='p':\n",
    "        print(i)"
   ]
  },
  {
   "cell_type": "code",
   "execution_count": 30,
   "metadata": {
    "id": "79L_feMadbmw"
   },
   "outputs": [
    {
     "name": "stdout",
     "output_type": "stream",
     "text": [
      "['peter', 'piper', 'picked', 'a', 'peck', 'of', 'pickled', 'peppers.']\n"
     ]
    }
   ],
   "source": [
    "#Write a python program to find below output using loop:-\n",
    "\n",
    "Input= 'peter piper picked a peck of pickled peppers.'\n",
    "#Output:- ['peter', 'piper', 'picked', 'a', 'peck', 'of', 'pickled', 'peppers']\n",
    "    \n",
    "output = Input.split()\n",
    "print(output)"
   ]
  },
  {
   "cell_type": "code",
   "execution_count": 51,
   "metadata": {
    "id": "vzs5AJ53deVS"
   },
   "outputs": [
    {
     "name": "stdout",
     "output_type": "stream",
     "text": [
      "peppers. pickled of peck a picked piper peter\n"
     ]
    }
   ],
   "source": [
    "#Write a python program to find below output using loop:-\n",
    "\n",
    "Input= 'peter piper picked a peck of pickled peppers.'\n",
    "#Output:- 'peppers pickled of peck a picked piper peter'\n",
    "\n",
    "\n",
    "output =[]\n",
    "\n",
    "output = Input.split()[len(Input)-1::-1]\n",
    "print(' '.join(output))\n",
    "\n"
   ]
  },
  {
   "cell_type": "code",
   "execution_count": 56,
   "metadata": {
    "id": "i-HP7DrCdhwS"
   },
   "outputs": [
    {
     "name": "stdout",
     "output_type": "stream",
     "text": [
      ".sreppep delkcip fo kcep a dekcip repip retep\n"
     ]
    }
   ],
   "source": [
    "#Write a python program to find below output using loop:-\n",
    "\n",
    "Input= 'peter piper picked a peck of pickled peppers.'\n",
    "#Output:- '.sreppep delkcip fo kcep a dekcip repip retep'\n",
    "\n",
    "print(Input[::-1])\n",
    "\n",
    "    \n",
    "\n"
   ]
  },
  {
   "cell_type": "code",
   "execution_count": 67,
   "metadata": {
    "id": "3rt6p0ytdkq0"
   },
   "outputs": [
    {
     "name": "stdout",
     "output_type": "stream",
     "text": [
      "retep repip dekcip a kcep fo delkcip .sreppep "
     ]
    }
   ],
   "source": [
    "#Write a python program to find below output using loop:-\n",
    "\n",
    "Input= 'peter piper picked a peck of pickled peppers.'\n",
    "#Output:- 'retep repip dekcip a kcep fo delkcip sreppep'\n",
    "    \n",
    "\n",
    "val = Input.split(' ')\n",
    "for i in range(0,len(val)):\n",
    "    print(val[i][::-1],end=' ')\n"
   ]
  },
  {
   "cell_type": "code",
   "execution_count": 78,
   "metadata": {
    "id": "HdlAWgT2dnKO"
   },
   "outputs": [
    {
     "name": "stdout",
     "output_type": "stream",
     "text": [
      "Peter Piper Picked A Peck Of Pickled Peppers.\n"
     ]
    }
   ],
   "source": [
    "#Write a python program to find below output using loop:-\n",
    "\n",
    "Input= 'peter piper picked a peck of pickled peppers.'\n",
    "#Output:- 'Peter Piper Picked A Peck Of Pickled Peppers'\n",
    "\n",
    "val=Input.split(' ')\n",
    "output=[]\n",
    "for i in range(0,len(val)):\n",
    "    output.append(val[i].title())\n",
    "\n",
    "print(' '.join(output))\n",
    "    \n",
    "    \n",
    "    \n",
    "\n",
    "\n"
   ]
  },
  {
   "cell_type": "code",
   "execution_count": 85,
   "metadata": {
    "id": "OthUuacodrNl"
   },
   "outputs": [
    {
     "name": "stdout",
     "output_type": "stream",
     "text": [
      "Peter piper picked a peck of pickled peppers.\n"
     ]
    }
   ],
   "source": [
    "#Write a python program to find below output using loop:-\n",
    "\n",
    "Input= 'Peter Piper Picked A Peck Of Pickled Peppers.'\n",
    "#Output:- 'Peter piper picked a peck of pickled peppers'\n",
    "i=0    \n",
    "while i==0:\n",
    "    Input = Input.capitalize()\n",
    "    print(Input)\n",
    "    i=i+1"
   ]
  },
  {
   "cell_type": "code",
   "execution_count": 3,
   "metadata": {
    "colab": {
     "base_uri": "https://localhost:8080/",
     "height": 34
    },
    "id": "scmDJE-ldsI9",
    "outputId": "4b1d1979-9f4a-4bc6-c505-b88b1bbd4d5d"
   },
   "outputs": [
    {
     "name": "stdout",
     "output_type": "stream",
     "text": [
      "29\n"
     ]
    }
   ],
   "source": [
    "'''Write a python program to implement index method using loop. If sub_str is found in my_str then it will print the index\n",
    "of first occurrence of first character of matching string in my_str:-\n",
    "\n",
    "Input:- my_str = 'Peter Piper Picked A Peck Of Pickled Peppers.', sub_str = 'Pickl'\n",
    "Output:- 29'''\n",
    "\n",
    "my_str = 'Peter Piper Picked A Peck Of Pickled Peppers.'\n",
    "sub_str = 'Pickl'\n",
    "\n",
    "if sub_str in my_str:\n",
    "        print(my_str.find(sub_str))\n",
    "\n"
   ]
  },
  {
   "cell_type": "code",
   "execution_count": 6,
   "metadata": {
    "id": "Kq_fwdb_dvYE"
   },
   "outputs": [
    {
     "name": "stdout",
     "output_type": "stream",
     "text": [
      "Peter Piper Picked A Pack Of Pickled Peppers.\n"
     ]
    }
   ],
   "source": [
    "'''Write a python program to implement replace method using loop. If sub_str is found in my_str then it will replace the first \n",
    "occurrence of sub_str with new_str else it will will print sub_str not found:-'''\n",
    "\n",
    "#Input:- my_str = 'Peter Piper Picked A Peck Of Pickled Peppers.', sub_str = 'Peck', new_str = 'Pack'\n",
    "#Output:- 'Peter Piper Picked A Pack Of Pickled Peppers.'\n",
    "\n",
    "    \n",
    "my_str = 'Peter Piper Picked A Peck Of Pickled Peppers.'\n",
    "sub_str = 'Peck'\n",
    "new_str = 'Pack'\n",
    "\n",
    "val=my_str.split(' ')\n",
    "if sub_str in my_str:\n",
    "    output=my_str.replace(sub_str,new_str)\n",
    "print(output)\n",
    "    \n",
    "    \n",
    "    "
   ]
  },
  {
   "cell_type": "code",
   "execution_count": 21,
   "metadata": {
    "id": "4Qes5D0cdyd1"
   },
   "outputs": [
    {
     "name": "stdout",
     "output_type": "stream",
     "text": [
      "*****************Peck************************\n"
     ]
    }
   ],
   "source": [
    "#Write a python program to find below output (implements rjust and ljust) using loop:-\n",
    "\n",
    "Input= 'Peter Piper Picked A Peck Of Pickled Peppers.'\n",
    "sub_str = 'Peck'\n",
    "#Output:- '*********************Peck********************'\n",
    "\n",
    "   \n",
    "if sub_str in Input:\n",
    "        output = sub_str.rjust(Input.find(sub_str),'*').ljust(len(Input), \"*\")\n",
    "print(output)\n"
   ]
  },
  {
   "cell_type": "code",
   "execution_count": 24,
   "metadata": {
    "id": "DsOrb07Od0lR"
   },
   "outputs": [
    {
     "name": "stdout",
     "output_type": "stream",
     "text": [
      "['Th', ' ', ' Python class']\n"
     ]
    }
   ],
   "source": [
    "#Write a python program to find below output using loop:-\n",
    "\n",
    "Input= 'This is Python class'\n",
    "#sep = ' is', \n",
    "#Output:- ['This', 'is', 'Python class']\n",
    "output=[]   \n",
    "output = Input.split('is')\n",
    "print(output)\n",
    "\n",
    "\n"
   ]
  },
  {
   "cell_type": "code",
   "execution_count": null,
   "metadata": {
    "id": "jRnBVufmd2Ay"
   },
   "outputs": [],
   "source": [
    "\n",
    "\n"
   ]
  }
 ],
 "metadata": {
  "colab": {
   "name": "Conditional_and_loop_assignment.ipynb",
   "provenance": []
  },
  "kernelspec": {
   "display_name": "Python 3",
   "language": "python",
   "name": "python3"
  },
  "language_info": {
   "codemirror_mode": {
    "name": "ipython",
    "version": 3
   },
   "file_extension": ".py",
   "mimetype": "text/x-python",
   "name": "python",
   "nbconvert_exporter": "python",
   "pygments_lexer": "ipython3",
   "version": "3.8.8"
  }
 },
 "nbformat": 4,
 "nbformat_minor": 1
}
