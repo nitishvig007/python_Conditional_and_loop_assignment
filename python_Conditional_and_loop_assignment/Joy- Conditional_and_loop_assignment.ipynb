{
 "cells": [
  {
   "cell_type": "markdown",
   "metadata": {
    "id": "wNRNTbrsc53d"
   },
   "source": [
    "# If - elif - else statement"
   ]
  },
  {
   "cell_type": "markdown",
   "metadata": {
    "id": "MiPfTnBycxNa"
   },
   "source": [
    "W. A P. which takes one number from 0 to 9 from the user and prints it in the word. And if the word is not from 0 to 9 then\n",
    "it should print that number is outside of the range and program should exit.\n",
    "For exapmple:- \n",
    "input = 1\n",
    "output = one\n"
   ]
  },
  {
   "cell_type": "code",
   "execution_count": 25,
   "metadata": {},
   "outputs": [
    {
     "name": "stdout",
     "output_type": "stream",
     "text": [
      "Enter number between 0 and 9 : 12\n",
      "Invalid\n"
     ]
    }
   ],
   "source": [
    "a = {0:\"zero\",1:\"one\",2:\"two\",3:\"three\",4:\"four\",5:\"five\",6:\"six\",7:\"seven\",8:\"eight\",9:\"nine\"}\n",
    "\n",
    "c = eval(input(\"Enter number between 0 and 9 : \"))\n",
    "if c <= len(a) :\n",
    "    print(a[c])\n",
    "else :\n",
    "    print(\"Invalid\")\n",
    "        "
   ]
  },
  {
   "cell_type": "markdown",
   "metadata": {
    "id": "vEMNOv9zdA39"
   },
   "source": [
    "W. A P. to implement calculator but the operation to be done and two numbers will be taken as input from user:-\n",
    "Operation console should show below:-\n",
    "    Please select any one operation from below:-\n",
    "        * To add enter 1\n",
    "        * to subtract enter 2\n",
    "        * To multiply enter 3\n",
    "        * To divide enter 4\n",
    "        * To divide and find quotient enter 5\n",
    "        * To divide and find remainder enter 6\n",
    "        * To divide and find num1 to the power of num2 enter 7\n",
    "        * To Come out of the program enter 8\n"
   ]
  },
  {
   "cell_type": "code",
   "execution_count": 30,
   "metadata": {},
   "outputs": [
    {
     "name": "stdout",
     "output_type": "stream",
     "text": [
      "Enter the first number : 8\n",
      "Enter the second number : 2\n",
      " For Addition type 1 \t For subtraction type 2 \t For multipication type 3 \t For division type 4 \t For Remainder type 5 \n",
      "To come out press 8 : \n",
      "Enter : 8\n",
      "Thank You\n"
     ]
    }
   ],
   "source": [
    "num1 = eval(input(\"Enter the first number : \"))\n",
    "num2 = eval(input(\"Enter the second number : \"))\n",
    "print(\" For Addition type 1 \\t For subtraction type 2 \\t For multipication type 3 \\t For division type 4 \\t For Remainder type 5 \")\n",
    "print(\"To come out press 8 : \")\n",
    "op = eval(input(\"Enter : \"))\n",
    "if op == 1 :\n",
    "    print(num1+num2)\n",
    "if op == 2 :\n",
    "    print(num1-num2)\n",
    "if op == 3 :\n",
    "    print(num1*num2)\n",
    "if op == 4 :\n",
    "    print(num1/num2)\n",
    "if op == 5 :\n",
    "    print(num1%num2)\n",
    "if op == 8 :\n",
    "    print(\"Thank You\")"
   ]
  },
  {
   "cell_type": "markdown",
   "metadata": {
    "id": "1e2gwYLqdC1s"
   },
   "source": [
    "W A P to check whether a year entered by user is an leap year or not?\n",
    "Check with below input:-\n",
    "    leap year:- 2012, 1968, 2004, 1200, 1600,2400\n",
    "    Non-lear year:- 1971, 2006, 1700,1800,1900\n",
    "    "
   ]
  },
  {
   "cell_type": "code",
   "execution_count": 35,
   "metadata": {},
   "outputs": [
    {
     "name": "stdout",
     "output_type": "stream",
     "text": [
      "Enter a year : 1968\n",
      "1968  is a leap year\n"
     ]
    }
   ],
   "source": [
    "yr = eval(input(\"Enter a year : \"))\n",
    "if ((yr%400 == 0) or ((yr%4==0) and (yr%100 != 0))) :\n",
    "    print(yr,\" is a leap year\")\n",
    "else :\n",
    "    print(\"not a leap year\")"
   ]
  },
  {
   "cell_type": "markdown",
   "metadata": {
    "id": "_tpXv1EtdEre"
   },
   "source": [
    "W A P which takes one number from the user and checks whether it is an even or odd number?, If it even then prints number is \n",
    "even number else prints that number is odd number.\n",
    "\n"
   ]
  },
  {
   "cell_type": "code",
   "execution_count": 36,
   "metadata": {},
   "outputs": [
    {
     "name": "stdout",
     "output_type": "stream",
     "text": [
      "Enter a number : 5\n",
      "odd\n"
     ]
    }
   ],
   "source": [
    "ev = eval(input(\"Enter a number : \"))\n",
    "if (ev%2==0) :\n",
    "    print(\"even\")\n",
    "else :\n",
    "    print(\"odd\")"
   ]
  },
  {
   "cell_type": "markdown",
   "metadata": {
    "id": "Q1HumymCdG6i"
   },
   "source": [
    "W A P which takes two numbers from the user and prints below output:-\n",
    "    1. num1 is greater than num2 if num1 is greater than num2\n",
    "    2. num1 is smaller than num2 if num1 is smaller than num2\n",
    "    3. num1 is equal to num2 if num1 and num2 are equal\n",
    "\n",
    "Note:- 1. Do this problem using if - else \n",
    "      2. Do this using ternary operator\n",
    "\n"
   ]
  },
  {
   "cell_type": "code",
   "execution_count": 50,
   "metadata": {},
   "outputs": [
    {
     "name": "stdout",
     "output_type": "stream",
     "text": [
      "Enter two numbers : \n",
      "5\n",
      "5\n",
      "both are equal\n"
     ]
    }
   ],
   "source": [
    "print(\"Enter two numbers : \")\n",
    "\n",
    "a1 = input()\n",
    "a2 = input()\n",
    "if ((a1.isdigit()) & (a2.isdigit())) :\n",
    "    if (a1>a2):\n",
    "        print(a1,\" is larger\")\n",
    "    elif (a1<a2):\n",
    "        print(a1,\" is smaller\")\n",
    "    elif (a1==a2):\n",
    "        print(\"both are equal\")\n",
    "else :\n",
    "    print(\"Invalid\")"
   ]
  },
  {
   "cell_type": "markdown",
   "metadata": {
    "id": "LR6TVB-DdOPf"
   },
   "source": [
    "W A P which takes three numbers from the user and prints below output:-\n",
    "    1. num1 is greater than num2 and num3 if num1 is greater than num2 and num3\n",
    "    2. num2 is greater than num1 and num3 if num2 is greater than num1 and num3\n",
    "    3. num3 is greater than num1 and num2 if num3 is greater than num1 and num2\n",
    "\n",
    "Note:- 1. Do this problem using if - elif - else \n",
    "      2. Do this using ternary operator\n",
    "\n",
    "a = a if a>b else b\n",
    "\n"
   ]
  },
  {
   "cell_type": "code",
   "execution_count": 163,
   "metadata": {},
   "outputs": [
    {
     "ename": "SyntaxError",
     "evalue": "invalid syntax (<ipython-input-163-8529a0552531>, line 6)",
     "output_type": "error",
     "traceback": [
      "\u001b[1;36m  File \u001b[1;32m\"<ipython-input-163-8529a0552531>\"\u001b[1;36m, line \u001b[1;32m6\u001b[0m\n\u001b[1;33m    res= print(x,\"is greatest\") if x>y and x>z else print(x\"is smallest\") if y<x and y<z else print(y\"is greatest\") if z<x and z<y else print(z\"is greatest\")\u001b[0m\n\u001b[1;37m                                                           ^\u001b[0m\n\u001b[1;31mSyntaxError\u001b[0m\u001b[1;31m:\u001b[0m invalid syntax\n"
     ]
    }
   ],
   "source": [
    "print(\"Enter three numbers : \")\n",
    "x = eval(input())\n",
    "y = eval(input())\n",
    "z = eval(input())\n",
    "\n",
    "res= print(x,\"is greatest\") if x>y and x>z else print(x\"is smallest\") if y<x and y<z else print(y\"is greatest\") if z<x and z<y else print(z\"is greatest\")\n",
    "print(res)"
   ]
  },
  {
   "cell_type": "markdown",
   "metadata": {
    "id": "IoOLQMUGdSox"
   },
   "source": [
    "# Loops - for loop, while loop"
   ]
  },
  {
   "cell_type": "markdown",
   "metadata": {
    "id": "9K23Uld8dQfA"
   },
   "source": [
    "Write a Python program to find the length of the my_str using loop:-\n",
    "\n",
    "Input:- 'Write a Python program to find the length of the my_str'\n",
    "Output:- 55\n"
   ]
  },
  {
   "cell_type": "code",
   "execution_count": 63,
   "metadata": {},
   "outputs": [
    {
     "name": "stdout",
     "output_type": "stream",
     "text": [
      "Enter value : Write a Python program to find the length of the my_str\n",
      "55\n"
     ]
    }
   ],
   "source": [
    "my_str = input(\"Enter value : \")\n",
    "count=0\n",
    "for i in my_str :\n",
    "    count+=1\n",
    "print(count)"
   ]
  },
  {
   "cell_type": "markdown",
   "metadata": {
    "id": "bp6AcqTsdYxy"
   },
   "source": [
    "Write a Python program to find the total number of times letter 'p' is appeared in the below string using loop:-\n",
    "    \n",
    "Input:- 'peter piper picked a peck of pickled peppers.\\n'\n",
    "Output:- 9\n",
    "\n"
   ]
  },
  {
   "cell_type": "code",
   "execution_count": 82,
   "metadata": {},
   "outputs": [
    {
     "name": "stdout",
     "output_type": "stream",
     "text": [
      "Enter the letter : d\n",
      "2\n"
     ]
    }
   ],
   "source": [
    "put1 = \"peter piper picked a peck of pickled peppers\"\n",
    "letter = input(\"Enter the letter : \")\n",
    "count1=0\n",
    "for i in put1 :\n",
    "    if i==letter :\n",
    "        count1+=1\n",
    "print(count1)"
   ]
  },
  {
   "cell_type": "markdown",
   "metadata": {
    "id": "xvxSBhTJdav1"
   },
   "source": [
    "Write a Python Program, to print all the indexes of all occurences of letter 'p' appeared in the string using loop:-\n",
    "    \n",
    "Input:- 'peter piper picked a peck of pickled peppers.'\n",
    "Output:- \n",
    "0\n",
    "6\n",
    "8\n",
    "12\n",
    "21\n",
    "29\n",
    "37\n",
    "39\n",
    "40"
   ]
  },
  {
   "cell_type": "code",
   "execution_count": 107,
   "metadata": {},
   "outputs": [
    {
     "name": "stdout",
     "output_type": "stream",
     "text": [
      " 0 6 8 12 21 29 37 39 40\n"
     ]
    }
   ],
   "source": [
    "list_of_elems =  'peter piper picked a peck of pickled peppers.' \n",
    "elem = 'p'\n",
    "pos = ''\n",
    "\n",
    "for i in range(len(list_of_elems)):\n",
    "    \n",
    "    if list_of_elems[i] == elem:\n",
    "        pos =pos+\" \"+ str(i)\n",
    "\n",
    "print(pos)"
   ]
  },
  {
   "cell_type": "markdown",
   "metadata": {
    "id": "79L_feMadbmw"
   },
   "source": [
    "Write a python program to find below output using loop:-\n",
    "\n",
    "Input:- 'peter piper picked a peck of pickled peppers.'\n",
    "Output:- ['peter', 'piper', 'picked', 'a', 'peck', 'of', 'pickled', 'peppers']"
   ]
  },
  {
   "cell_type": "code",
   "execution_count": 117,
   "metadata": {},
   "outputs": [
    {
     "name": "stdout",
     "output_type": "stream",
     "text": [
      "['peter', 'piper', 'picked', 'a', 'peck', 'of', 'pickled', 'peppers']\n"
     ]
    }
   ],
   "source": [
    "pr =  'peter piper picked a peck of pickled peppers'\n",
    "pr1 = []\n",
    "for i in range(1) :\n",
    "    pr1+= pr.split(' ')\n",
    "    print(pr1)\n",
    "    \n"
   ]
  },
  {
   "cell_type": "markdown",
   "metadata": {
    "id": "vzs5AJ53deVS"
   },
   "source": [
    "Write a python program to find below output using loop:-\n",
    "\n",
    "Input:- 'peter piper picked a peck of pickled peppers.'\n",
    "Output:- 'peppers pickled of peck a picked piper peter'\n",
    "\n"
   ]
  },
  {
   "cell_type": "code",
   "execution_count": 131,
   "metadata": {},
   "outputs": [
    {
     "name": "stdout",
     "output_type": "stream",
     "text": [
      "  peppers pickled of peck a picked piper peter\n"
     ]
    },
    {
     "data": {
      "text/plain": [
       "list"
      ]
     },
     "execution_count": 131,
     "metadata": {},
     "output_type": "execute_result"
    }
   ],
   "source": [
    "pr = \"peter piper picked a peck of pickled peppers\"\n",
    "pr1=pr.split(\" \")\n",
    "res=\" \"\n",
    "for i in reversed(pr1):\n",
    "    res+= \" \"+i\n",
    "print(res)"
   ]
  },
  {
   "cell_type": "markdown",
   "metadata": {
    "id": "i-HP7DrCdhwS"
   },
   "source": [
    "Write a python program to find below output using loop:-\n",
    "\n",
    "Input:- 'peter piper picked a peck of pickled peppers.'\n",
    "Output:- '.sreppep delkcip fo kcep a dekcip repip retep'\n",
    "\n"
   ]
  },
  {
   "cell_type": "code",
   "execution_count": 134,
   "metadata": {},
   "outputs": [
    {
     "name": "stdout",
     "output_type": "stream",
     "text": [
      " sreppep delkcip fo kcep a dekcip repip retep\n"
     ]
    }
   ],
   "source": [
    "pr = \"peter piper picked a peck of pickled peppers\"\n",
    "res=\" \"\n",
    "for i in reversed(pr):\n",
    "    res+= i\n",
    "print(res)"
   ]
  },
  {
   "cell_type": "markdown",
   "metadata": {
    "id": "3rt6p0ytdkq0"
   },
   "source": [
    "Write a python program to find below output using loop:-\n",
    "\n",
    "Input:- 'peter piper picked a peck of pickled peppers.'\n",
    "Output:- 'retep repip dekcip a kcep fo delkcip sreppep'"
   ]
  },
  {
   "cell_type": "code",
   "execution_count": 141,
   "metadata": {},
   "outputs": [
    {
     "name": "stdout",
     "output_type": "stream",
     "text": [
      " retep repip dekcip a kcep fo delkcip sreppep \n"
     ]
    }
   ],
   "source": [
    "pr = \"peter piper picked a peck of pickled peppers\"\n",
    "pr1=pr.split(\" \")\n",
    "res=\" \"\n",
    "for i in range(len(pr1)):\n",
    "    for j in reversed(pr1[i]):\n",
    "        res+=j\n",
    "    res+=\" \"\n",
    "print(res)"
   ]
  },
  {
   "cell_type": "markdown",
   "metadata": {
    "id": "HdlAWgT2dnKO"
   },
   "source": [
    "Write a python program to find below output using loop:-\n",
    "\n",
    "Input:- 'peter piper picked a peck of pickled peppers.'\n",
    "Output:- 'Peter Piper Picked A Peck Of Pickled Peppers'"
   ]
  },
  {
   "cell_type": "code",
   "execution_count": 158,
   "metadata": {},
   "outputs": [
    {
     "name": "stdout",
     "output_type": "stream",
     "text": [
      "  Peter Piper Picked A Peck Of Pickled Peppers\n"
     ]
    }
   ],
   "source": [
    "ti = \"peter piper picked a peck of pickled peppers\"\n",
    "ti1 = ti.split(\" \")\n",
    "res=\" \"\n",
    "for j in ti1[::] :\n",
    "        res+= \" \"+ j.capitalize()\n",
    "        \n",
    "print(res)"
   ]
  },
  {
   "cell_type": "markdown",
   "metadata": {
    "id": "OthUuacodrNl"
   },
   "source": [
    "Write a python program to find below output using loop:-\n",
    "\n",
    "Input:- 'Peter Piper Picked A Peck Of Pickled Peppers.'\n",
    "Output:- 'Peter piper picked a peck of pickled peppers'"
   ]
  },
  {
   "cell_type": "code",
   "execution_count": 166,
   "metadata": {},
   "outputs": [
    {
     "data": {
      "text/plain": [
       "'Peter piper picked a peck of pickled peppers'"
      ]
     },
     "execution_count": 166,
     "metadata": {},
     "output_type": "execute_result"
    }
   ],
   "source": [
    "ti = \"peter piper picked a peck of pickled peppers\"\n",
    "res=ti.capitalize()\n",
    "res"
   ]
  },
  {
   "cell_type": "markdown",
   "metadata": {
    "colab": {
     "base_uri": "https://localhost:8080/",
     "height": 34
    },
    "id": "scmDJE-ldsI9",
    "outputId": "4b1d1979-9f4a-4bc6-c505-b88b1bbd4d5d"
   },
   "source": [
    "Write a python program to implement index method using loop. If sub_str is found in my_str then it will print the index\n",
    "of first occurrence of first character of matching string in my_str:-\n",
    "\n",
    "Input:- my_str = 'Peter Piper Picked A Peck Of Pickled Peppers.', sub_str = 'Pickl'\n",
    "Output:- 29\n",
    "\n"
   ]
  },
  {
   "cell_type": "code",
   "execution_count": 170,
   "metadata": {},
   "outputs": [
    {
     "name": "stdout",
     "output_type": "stream",
     "text": [
      "Enter the string: Peter Piper Picked A Peck Of Pickled Peppers\n",
      "Enter the Substring: Pickl\n",
      "29\n"
     ]
    }
   ],
   "source": [
    "mystr = input('Enter the string: ')\n",
    "sub_str = input('Enter the Substring: ')\n",
    "if sub_str in mystr:\n",
    "        print(mystr.find(sub_str))"
   ]
  },
  {
   "cell_type": "markdown",
   "metadata": {
    "id": "Kq_fwdb_dvYE"
   },
   "source": [
    "Write a python program to implement replace method using loop. If sub_str is found in my_str then it will replace the first \n",
    "occurrence of sub_str with new_str else it will will print sub_str not found:-\n",
    "\n",
    "Input:- my_str = 'Peter Piper Picked A Peck Of Pickled Peppers.', sub_str = 'Peck', new_str = 'Pack'\n",
    "Output:- 'Peter Piper Picked A Pack Of Pickled Peppers.'\n",
    "\n",
    "\n"
   ]
  },
  {
   "cell_type": "code",
   "execution_count": 171,
   "metadata": {},
   "outputs": [
    {
     "name": "stdout",
     "output_type": "stream",
     "text": [
      "Enter the string: Peter Piper Picked A Peck Of Pickled Peppers\n",
      "Enter the Substring: Peck\n",
      "Enter the Newstring: Pack\n",
      "Peter Piper Picked A Pack Of Pickled Peppers\n"
     ]
    }
   ],
   "source": [
    "mystr = input('Enter the string: ')\n",
    "sub_str = input('Enter the Substring: ')\n",
    "new_str = input('Enter the Newstring: ')\n",
    "if sub_str in mystr:\n",
    "    mystr = mystr.replace(sub_str,new_str)\n",
    "    print(mystr)\n",
    "else:\n",
    "    print('sub_str not found')"
   ]
  },
  {
   "cell_type": "markdown",
   "metadata": {
    "id": "4Qes5D0cdyd1"
   },
   "source": [
    "Write a python program to find below output (implements rjust and ljust) using loop:-\n",
    "\n",
    "Input:- 'Peter Piper Picked A Peck Of Pickled Peppers.', sub_str = 'Peck', \n",
    "Output:- '*********************Peck********************'\n",
    "\n",
    "\n",
    "\n"
   ]
  },
  {
   "cell_type": "code",
   "execution_count": 180,
   "metadata": {},
   "outputs": [
    {
     "name": "stdout",
     "output_type": "stream",
     "text": [
      "************Peck Peck************\n"
     ]
    }
   ],
   "source": [
    "my_str = 'Peter Piper Picked A Peck Of Pickled Peppers.'\n",
    "sub_str = 'Peck'\n",
    "ln = my_str.find(sub_str)\n",
    "b=sub_str.rjust(ln,\"*\")\n",
    "a=sub_str.ljust(ln,\"*\")\n",
    "print(b,a)"
   ]
  },
  {
   "cell_type": "code",
   "execution_count": null,
   "metadata": {
    "id": "DsOrb07Od0lR"
   },
   "outputs": [],
   "source": [
    "Write a python program to find below output using loop:-\n",
    "\n",
    "Input:- 'This is Python class', sep = ' is', \n",
    "Output:- ['This', 'is', 'Python class']\n",
    "\n"
   ]
  },
  {
   "cell_type": "code",
   "execution_count": 183,
   "metadata": {
    "id": "jRnBVufmd2Ay"
   },
   "outputs": [
    {
     "name": "stdout",
     "output_type": "stream",
     "text": [
      "Enter the string: This is Python class\n"
     ]
    },
    {
     "data": {
      "text/plain": [
       "['This', 'is', 'Python', 'class']"
      ]
     },
     "execution_count": 183,
     "metadata": {},
     "output_type": "execute_result"
    }
   ],
   "source": [
    "mystr = input('Enter the string: ')\n",
    "output = mystr.split()\n",
    "output\n"
   ]
  },
  {
   "cell_type": "code",
   "execution_count": null,
   "metadata": {},
   "outputs": [],
   "source": []
  }
 ],
 "metadata": {
  "colab": {
   "name": "Conditional_and_loop_assignment.ipynb",
   "provenance": []
  },
  "kernelspec": {
   "display_name": "Python 3",
   "language": "python",
   "name": "python3"
  },
  "language_info": {
   "codemirror_mode": {
    "name": "ipython",
    "version": 3
   },
   "file_extension": ".py",
   "mimetype": "text/x-python",
   "name": "python",
   "nbconvert_exporter": "python",
   "pygments_lexer": "ipython3",
   "version": "3.9.5"
  }
 },
 "nbformat": 4,
 "nbformat_minor": 1
}
